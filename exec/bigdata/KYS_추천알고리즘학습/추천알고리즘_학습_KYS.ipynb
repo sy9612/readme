{
  "nbformat": 4,
  "nbformat_minor": 0,
  "metadata": {
    "colab": {
      "name": "추천시스템 학습.ipynb",
      "provenance": []
    },
    "kernelspec": {
      "name": "python3",
      "display_name": "Python 3"
    }
  },
  "cells": [
    {
      "cell_type": "markdown",
      "metadata": {
        "id": "PI9UJZtyrNgs"
      },
      "source": [
        "데이터 사이언스 스쿨의 추천 시스템 항목 참고\r\n",
        "https://datascienceschool.net/03%20machine%20learning/07.01%20%EC%B6%94%EC%B2%9C%20%EC%8B%9C%EC%8A%A4%ED%85%9C.html"
      ]
    },
    {
      "cell_type": "markdown",
      "metadata": {
        "id": "3jQw3ZNhk5e-"
      },
      "source": [
        "# **Surprise 패키지**\r\n",
        "파이썬의 Surprise패키지는 다양한 추천 시스템 알고리즘을 제공한다."
      ]
    },
    {
      "cell_type": "code",
      "metadata": {
        "colab": {
          "base_uri": "https://localhost:8080/"
        },
        "id": "74n93jDEUCku",
        "outputId": "59d7ea25-9264-4b97-c900-7a8be7337d58"
      },
      "source": [
        "!pip install surprise"
      ],
      "execution_count": 2,
      "outputs": [
        {
          "output_type": "stream",
          "text": [
            "Collecting surprise\n",
            "  Downloading https://files.pythonhosted.org/packages/61/de/e5cba8682201fcf9c3719a6fdda95693468ed061945493dea2dd37c5618b/surprise-0.1-py2.py3-none-any.whl\n",
            "Collecting scikit-surprise\n",
            "\u001b[?25l  Downloading https://files.pythonhosted.org/packages/97/37/5d334adaf5ddd65da99fc65f6507e0e4599d092ba048f4302fe8775619e8/scikit-surprise-1.1.1.tar.gz (11.8MB)\n",
            "\u001b[K     |████████████████████████████████| 11.8MB 6.1MB/s \n",
            "\u001b[?25hRequirement already satisfied: joblib>=0.11 in /usr/local/lib/python3.7/dist-packages (from scikit-surprise->surprise) (1.0.1)\n",
            "Requirement already satisfied: numpy>=1.11.2 in /usr/local/lib/python3.7/dist-packages (from scikit-surprise->surprise) (1.19.5)\n",
            "Requirement already satisfied: scipy>=1.0.0 in /usr/local/lib/python3.7/dist-packages (from scikit-surprise->surprise) (1.4.1)\n",
            "Requirement already satisfied: six>=1.10.0 in /usr/local/lib/python3.7/dist-packages (from scikit-surprise->surprise) (1.15.0)\n",
            "Building wheels for collected packages: scikit-surprise\n",
            "  Building wheel for scikit-surprise (setup.py) ... \u001b[?25l\u001b[?25hdone\n",
            "  Created wheel for scikit-surprise: filename=scikit_surprise-1.1.1-cp37-cp37m-linux_x86_64.whl size=1617543 sha256=98945a60e0dca3d10b36140e6f3a68b5004fbde008f29d0b4cd4e04ef1bfe33d\n",
            "  Stored in directory: /root/.cache/pip/wheels/78/9c/3d/41b419c9d2aff5b6e2b4c0fc8d25c538202834058f9ed110d0\n",
            "Successfully built scikit-surprise\n",
            "Installing collected packages: scikit-surprise, surprise\n",
            "Successfully installed scikit-surprise-1.1.1 surprise-0.1\n"
          ],
          "name": "stdout"
        }
      ]
    },
    {
      "cell_type": "code",
      "metadata": {
        "id": "9maVARmgT15h"
      },
      "source": [
        "import surprise\r\n",
        "import pandas as pd"
      ],
      "execution_count": 6,
      "outputs": []
    },
    {
      "cell_type": "markdown",
      "metadata": {
        "id": "lT4YS_AslAmm"
      },
      "source": [
        "# **평점 데이터**\r\n",
        "surprise 패키지는 MovieLense라는 영화 추천 웹사이트의 데이터를 샘플 평점 데이터를 제공한다"
      ]
    },
    {
      "cell_type": "code",
      "metadata": {
        "colab": {
          "base_uri": "https://localhost:8080/"
        },
        "id": "-0L5UBlgT8lM",
        "outputId": "c29fb322-00bf-4666-ffae-f61d4e774ae3"
      },
      "source": [
        "data = surprise.Dataset.load_builtin('ml-100k')"
      ],
      "execution_count": 4,
      "outputs": [
        {
          "output_type": "stream",
          "text": [
            "Dataset ml-100k could not be found. Do you want to download it? [Y/n] Y\n",
            "Trying to download dataset from http://files.grouplens.org/datasets/movielens/ml-100k.zip...\n",
            "Done! Dataset ml-100k has been saved to /root/.surprise_data/ml-100k\n"
          ],
          "name": "stdout"
        }
      ]
    },
    {
      "cell_type": "code",
      "metadata": {
        "colab": {
          "base_uri": "https://localhost:8080/",
          "height": 343
        },
        "id": "Ad7bd5m3Uiy2",
        "outputId": "f8a01db2-4091-477b-9c20-a5f0e61362e5"
      },
      "source": [
        "df = pd.DataFrame(data.raw_ratings, columns=[\"user\", \"item\", \"rate\", \"id\"])\r\n",
        "del df[\"id\"]\r\n",
        "df.head(10)"
      ],
      "execution_count": 7,
      "outputs": [
        {
          "output_type": "execute_result",
          "data": {
            "text/html": [
              "<div>\n",
              "<style scoped>\n",
              "    .dataframe tbody tr th:only-of-type {\n",
              "        vertical-align: middle;\n",
              "    }\n",
              "\n",
              "    .dataframe tbody tr th {\n",
              "        vertical-align: top;\n",
              "    }\n",
              "\n",
              "    .dataframe thead th {\n",
              "        text-align: right;\n",
              "    }\n",
              "</style>\n",
              "<table border=\"1\" class=\"dataframe\">\n",
              "  <thead>\n",
              "    <tr style=\"text-align: right;\">\n",
              "      <th></th>\n",
              "      <th>user</th>\n",
              "      <th>item</th>\n",
              "      <th>rate</th>\n",
              "    </tr>\n",
              "  </thead>\n",
              "  <tbody>\n",
              "    <tr>\n",
              "      <th>0</th>\n",
              "      <td>196</td>\n",
              "      <td>242</td>\n",
              "      <td>3.0</td>\n",
              "    </tr>\n",
              "    <tr>\n",
              "      <th>1</th>\n",
              "      <td>186</td>\n",
              "      <td>302</td>\n",
              "      <td>3.0</td>\n",
              "    </tr>\n",
              "    <tr>\n",
              "      <th>2</th>\n",
              "      <td>22</td>\n",
              "      <td>377</td>\n",
              "      <td>1.0</td>\n",
              "    </tr>\n",
              "    <tr>\n",
              "      <th>3</th>\n",
              "      <td>244</td>\n",
              "      <td>51</td>\n",
              "      <td>2.0</td>\n",
              "    </tr>\n",
              "    <tr>\n",
              "      <th>4</th>\n",
              "      <td>166</td>\n",
              "      <td>346</td>\n",
              "      <td>1.0</td>\n",
              "    </tr>\n",
              "    <tr>\n",
              "      <th>5</th>\n",
              "      <td>298</td>\n",
              "      <td>474</td>\n",
              "      <td>4.0</td>\n",
              "    </tr>\n",
              "    <tr>\n",
              "      <th>6</th>\n",
              "      <td>115</td>\n",
              "      <td>265</td>\n",
              "      <td>2.0</td>\n",
              "    </tr>\n",
              "    <tr>\n",
              "      <th>7</th>\n",
              "      <td>253</td>\n",
              "      <td>465</td>\n",
              "      <td>5.0</td>\n",
              "    </tr>\n",
              "    <tr>\n",
              "      <th>8</th>\n",
              "      <td>305</td>\n",
              "      <td>451</td>\n",
              "      <td>3.0</td>\n",
              "    </tr>\n",
              "    <tr>\n",
              "      <th>9</th>\n",
              "      <td>6</td>\n",
              "      <td>86</td>\n",
              "      <td>3.0</td>\n",
              "    </tr>\n",
              "  </tbody>\n",
              "</table>\n",
              "</div>"
            ],
            "text/plain": [
              "  user item  rate\n",
              "0  196  242   3.0\n",
              "1  186  302   3.0\n",
              "2   22  377   1.0\n",
              "3  244   51   2.0\n",
              "4  166  346   1.0\n",
              "5  298  474   4.0\n",
              "6  115  265   2.0\n",
              "7  253  465   5.0\n",
              "8  305  451   3.0\n",
              "9    6   86   3.0"
            ]
          },
          "metadata": {
            "tags": []
          },
          "execution_count": 7
        }
      ]
    },
    {
      "cell_type": "code",
      "metadata": {
        "colab": {
          "base_uri": "https://localhost:8080/"
        },
        "id": "qtaWXdOWUljm",
        "outputId": "91bb4e43-0621-4d96-f0db-560f00ee648d"
      },
      "source": [
        "df_table = df.set_index([\"user\", \"item\"]).unstack()\r\n",
        "df_table.shape"
      ],
      "execution_count": 8,
      "outputs": [
        {
          "output_type": "execute_result",
          "data": {
            "text/plain": [
              "(943, 1682)"
            ]
          },
          "metadata": {
            "tags": []
          },
          "execution_count": 8
        }
      ]
    },
    {
      "cell_type": "markdown",
      "metadata": {
        "id": "EtbJAkBTl-Jr"
      },
      "source": [
        "이 평점 행렬의 일부만 살펴보면 평점 데이터가 일부 위치에만 존재하는 sparse 행렬임을 알 수 있음"
      ]
    },
    {
      "cell_type": "code",
      "metadata": {
        "colab": {
          "base_uri": "https://localhost:8080/",
          "height": 402
        },
        "id": "LsTTMjq2kyaD",
        "outputId": "09d6c771-ccb8-425c-b2f4-7f10ccff11c5"
      },
      "source": [
        "df_table.iloc[212:222, 808:817].fillna(\"\")"
      ],
      "execution_count": 9,
      "outputs": [
        {
          "output_type": "execute_result",
          "data": {
            "text/html": [
              "<div>\n",
              "<style scoped>\n",
              "    .dataframe tbody tr th:only-of-type {\n",
              "        vertical-align: middle;\n",
              "    }\n",
              "\n",
              "    .dataframe tbody tr th {\n",
              "        vertical-align: top;\n",
              "    }\n",
              "\n",
              "    .dataframe thead tr th {\n",
              "        text-align: left;\n",
              "    }\n",
              "\n",
              "    .dataframe thead tr:last-of-type th {\n",
              "        text-align: right;\n",
              "    }\n",
              "</style>\n",
              "<table border=\"1\" class=\"dataframe\">\n",
              "  <thead>\n",
              "    <tr>\n",
              "      <th></th>\n",
              "      <th colspan=\"9\" halign=\"left\">rate</th>\n",
              "    </tr>\n",
              "    <tr>\n",
              "      <th>item</th>\n",
              "      <th>211</th>\n",
              "      <th>212</th>\n",
              "      <th>213</th>\n",
              "      <th>214</th>\n",
              "      <th>215</th>\n",
              "      <th>216</th>\n",
              "      <th>217</th>\n",
              "      <th>218</th>\n",
              "      <th>219</th>\n",
              "    </tr>\n",
              "    <tr>\n",
              "      <th>user</th>\n",
              "      <th></th>\n",
              "      <th></th>\n",
              "      <th></th>\n",
              "      <th></th>\n",
              "      <th></th>\n",
              "      <th></th>\n",
              "      <th></th>\n",
              "      <th></th>\n",
              "      <th></th>\n",
              "    </tr>\n",
              "  </thead>\n",
              "  <tbody>\n",
              "    <tr>\n",
              "      <th>290</th>\n",
              "      <td>3</td>\n",
              "      <td></td>\n",
              "      <td></td>\n",
              "      <td></td>\n",
              "      <td></td>\n",
              "      <td>4</td>\n",
              "      <td></td>\n",
              "      <td>2</td>\n",
              "      <td></td>\n",
              "    </tr>\n",
              "    <tr>\n",
              "      <th>291</th>\n",
              "      <td></td>\n",
              "      <td>4</td>\n",
              "      <td></td>\n",
              "      <td>4</td>\n",
              "      <td>4</td>\n",
              "      <td></td>\n",
              "      <td></td>\n",
              "      <td>4</td>\n",
              "      <td>4</td>\n",
              "    </tr>\n",
              "    <tr>\n",
              "      <th>292</th>\n",
              "      <td></td>\n",
              "      <td></td>\n",
              "      <td></td>\n",
              "      <td>3</td>\n",
              "      <td></td>\n",
              "      <td></td>\n",
              "      <td></td>\n",
              "      <td></td>\n",
              "      <td></td>\n",
              "    </tr>\n",
              "    <tr>\n",
              "      <th>293</th>\n",
              "      <td>4</td>\n",
              "      <td></td>\n",
              "      <td>3</td>\n",
              "      <td></td>\n",
              "      <td>4</td>\n",
              "      <td>4</td>\n",
              "      <td>3</td>\n",
              "      <td>2</td>\n",
              "      <td></td>\n",
              "    </tr>\n",
              "    <tr>\n",
              "      <th>294</th>\n",
              "      <td></td>\n",
              "      <td></td>\n",
              "      <td></td>\n",
              "      <td></td>\n",
              "      <td></td>\n",
              "      <td></td>\n",
              "      <td></td>\n",
              "      <td></td>\n",
              "      <td></td>\n",
              "    </tr>\n",
              "    <tr>\n",
              "      <th>295</th>\n",
              "      <td></td>\n",
              "      <td></td>\n",
              "      <td>5</td>\n",
              "      <td></td>\n",
              "      <td>5</td>\n",
              "      <td>5</td>\n",
              "      <td>4</td>\n",
              "      <td>5</td>\n",
              "      <td></td>\n",
              "    </tr>\n",
              "    <tr>\n",
              "      <th>296</th>\n",
              "      <td>4</td>\n",
              "      <td></td>\n",
              "      <td></td>\n",
              "      <td></td>\n",
              "      <td></td>\n",
              "      <td></td>\n",
              "      <td></td>\n",
              "      <td></td>\n",
              "      <td></td>\n",
              "    </tr>\n",
              "    <tr>\n",
              "      <th>297</th>\n",
              "      <td>4</td>\n",
              "      <td></td>\n",
              "      <td>3</td>\n",
              "      <td></td>\n",
              "      <td>2</td>\n",
              "      <td>4</td>\n",
              "      <td></td>\n",
              "      <td>3</td>\n",
              "      <td></td>\n",
              "    </tr>\n",
              "    <tr>\n",
              "      <th>298</th>\n",
              "      <td>5</td>\n",
              "      <td></td>\n",
              "      <td>3</td>\n",
              "      <td></td>\n",
              "      <td>5</td>\n",
              "      <td></td>\n",
              "      <td></td>\n",
              "      <td></td>\n",
              "      <td></td>\n",
              "    </tr>\n",
              "    <tr>\n",
              "      <th>299</th>\n",
              "      <td>4</td>\n",
              "      <td>4</td>\n",
              "      <td>5</td>\n",
              "      <td></td>\n",
              "      <td></td>\n",
              "      <td>5</td>\n",
              "      <td></td>\n",
              "      <td></td>\n",
              "      <td></td>\n",
              "    </tr>\n",
              "  </tbody>\n",
              "</table>\n",
              "</div>"
            ],
            "text/plain": [
              "     rate                                \n",
              "item  211 212 213 214 215 216 217 218 219\n",
              "user                                     \n",
              "290     3                   4       2    \n",
              "291         4       4   4           4   4\n",
              "292                 3                    \n",
              "293     4       3       4   4   3   2    \n",
              "294                                      \n",
              "295             5       5   5   4   5    \n",
              "296     4                                \n",
              "297     4       3       2   4       3    \n",
              "298     5       3       5                \n",
              "299     4   4   5           5            "
            ]
          },
          "metadata": {
            "tags": []
          },
          "execution_count": 9
        }
      ]
    },
    {
      "cell_type": "code",
      "metadata": {
        "id": "HP2WxuPImUt6"
      },
      "source": [
        "import matplotlib.pyplot as plt"
      ],
      "execution_count": 13,
      "outputs": []
    },
    {
      "cell_type": "code",
      "metadata": {
        "colab": {
          "base_uri": "https://localhost:8080/",
          "height": 266
        },
        "id": "JZ8PFxsyk2AH",
        "outputId": "e86c10d9-0f19-4744-92aa-a00a8b4b9729"
      },
      "source": [
        "plt.imshow(df_table)\r\n",
        "plt.grid(False)\r\n",
        "plt.xlabel(\"item\")\r\n",
        "plt.ylabel(\"user\")\r\n",
        "plt.title(\"Rate Matrix\")\r\n",
        "plt.show()\r\n",
        "\r\n",
        "# 왜 점이 안찍히지??"
      ],
      "execution_count": 14,
      "outputs": [
        {
          "output_type": "display_data",
          "data": {
            "image/png": "[encoded data removed]",
            "text/plain": [
              "<Figure size 432x288 with 1 Axes>"
            ]
          },
          "metadata": {
            "tags": [],
            "needs_background": "light"
          }
        }
      ]
    },
    {
      "cell_type": "markdown",
      "metadata": {
        "id": "J27djThSnEYr"
      },
      "source": [
        "# **추천 시스템 알고리즘**\r\n",
        "1. 협업 필터링 (Collaborative Filtering)\r\n",
        "- 1-1. Neighborhood Models\r\n",
        "  - User-Based CF\r\n",
        "  - Item-Based CF\r\n",
        "- 1-2. Latent Factor Models\r\n",
        "  - Matrix Factorization\r\n",
        "  - SVD\r\n",
        "2. 컨텐츠 기반 추천 (Content-Based Recommendation)"
      ]
    },
    {
      "cell_type": "markdown",
      "metadata": {
        "id": "_Zy63SK_qIOi"
      },
      "source": [
        "## 모형 사용법\r\n",
        "베이스라인 모형을 비롯한 surprise 패키지 모형을 사용하기 위해서는 다음과 같은 순서를 거친다.\r\n",
        "\r\n",
        "1. 데이터세트의 split, folds 메소드를 사용하여 K-Fold 트레이닝 데이터셋과 테스트 데이터셋을 만든다.\r\n",
        "\r\n",
        "2. 모형 알고리즘 객체를 생성한다.\r\n",
        "\r\n",
        "3. 모형 알고리즘 객체의 train 메서드와 트레이닝 데이터셋으로 모수를 추정한 후, test 메서드로 테스트 데이터셋에 대한 예측을 실시한다.\r\n",
        "\r\n",
        "4. accuracy 서브패키지의 성능평가 함수를 사용하여 예측 성능을 계산한다.\r\n",
        "\r\n",
        "이 과정은 evaluate 명령으로 단축할 수도 있다.\r\n",
        "\r\n"
      ]
    },
    {
      "cell_type": "markdown",
      "metadata": {
        "id": "JoC5hjo7qhRR"
      },
      "source": [
        "## 추천성능 평가기준\r\n",
        "accuracy 서브패키지에서는 다음과 같은 추천성능 평가기준을 제공한다.\r\n",
        "\r\n",
        "- RMSE (Root Mean Squared Error)\r\n",
        "\r\n",
        "- MAE (Mean Absolute Error)\r\n",
        "\r\n",
        "- FCP (Fraction of Concordant Pairs) \r\n",
        "\r\n",
        "회귀 분석에서 i번째 데이터와 j번째 데이터에 대해 실제 데이터 y<sub>i</sub>,y<sub>j</sub>와 예측 데이터 y^<sub>i</sub>,y^<sub>j</sub> 사이의 증가 방향이 같으면 condordant pair라고 한다.\r\n",
        "\r\n"
      ]
    },
    {
      "cell_type": "code",
      "metadata": {
        "id": "mWK4N4p8q1-E"
      },
      "source": [
        "from surprise.model_selection import cross_validate"
      ],
      "execution_count": 16,
      "outputs": []
    },
    {
      "cell_type": "markdown",
      "metadata": {
        "id": "6LuAltecni23"
      },
      "source": [
        "## Collaborative Filter\r\n",
        "CF(Collaborative Filter) 방법은 모든 사용자의 데이터를 균일하게 사용하는 것이 아니라 평점 행렬이 가진 특정한 패턴을 찾아서 이를 평점 예측에 사용하는 방법이다. CF 방법도 사용자나 상품 기준으로 평점의 유사성을 살피는 Neighborhood 모형과 행렬의 수치적 특징을 이용하는 Latent Factor 모형이 있다.\r\n",
        "\r\n"
      ]
    },
    {
      "cell_type": "markdown",
      "metadata": {
        "id": "8EAattvMnu8B"
      },
      "source": [
        "### Neighborhood 모형\r\n",
        "Neighborhood 모형은 Memory-based CF라고도 한다. 이 방법은 특정 사용자의 평점을 예측하기 위해 사용하는 것이아니라 해당 사용자와 유사한(similar) 사용자에 대해 가중치를 준다.\r\n",
        "\r\n",
        "특히 해당 사용자와 유사한 사용자를 찾는 방법 즉, 평점 행렬에서 유사한 사용자 행 벡터를 찾아서 이를 기반으로 빈 데이터를 계산하는 방법을 사용자 기반 (User-based) CF라고 한다.\r\n",
        "\r\n",
        "이와 달리 특정한 상품에 대해 사용자가 준 점수 즉, 평점 행렬의 상품 열 벡터의 유사성을 찾고 특정 상품과 유사한 평점 정보를 가지는 상품들로 해당 상품의 빈 데이터를 예측하는 방법을 상품 기반 (Item-based) CF라고 한다.\r\n",
        "\r\n"
      ]
    },
    {
      "cell_type": "markdown",
      "metadata": {
        "id": "hDrDkgoLn5te"
      },
      "source": [
        "#### 유사도 계산\r\n",
        "사용자 특성 벡터(평점 행렬의 행 벡터)이나 상품 특성 벡터(평점 행렬의 열 벡터)의 유사도(similarity)을 비교하기 위한 기준도 여러가지가 있을 수 있다.\r\n",
        "\r\n",
        "surprise 패키지에서는 다음과 같은 유사도 기준을 제공한다.\r\n",
        "\r\n",
        "- 평균제곱차이 유사도 (Mean Squared Difference Similarity)\r\n",
        "\r\n",
        "- 코사인 유사도 (Cosine Similarity)\r\n",
        "\r\n",
        "- 피어슨 유사도 (Pearson Similarity)\r\n",
        "\r\n",
        "- 피어슨-베이스라인 유사도 (Pearson-Baseline Similarity)\r\n",
        "\r\n",
        "surprise 패키지의 유사도 설정 옵션은 다음과 같다.\r\n",
        "\r\n",
        "- name: 사용할 유사도의 종류를 나타내는 문자열. 디폴트는 'MSD'.\r\n",
        "\r\n",
        "- user_based: True면 사용자 기반, False면 상품 기반.\r\n",
        "\r\n",
        "- min_support: 두 사용자나, 상품에서 공통적으로 있는 평점 원소의 수의 최솟값. 공통 평점 원소의 수가 이 값보다 적으면 해당 벡터는 사용하지 않는다. 디폴트는\r\n",
        "\r\n",
        "- shrinkage: Shrinkage 가중치. 디폴트는 100."
      ]
    },
    {
      "cell_type": "markdown",
      "metadata": {
        "id": "pYSB_YfVpwR9"
      },
      "source": [
        "**평균제곱차이(Mean Squared Difference, MSD)**유사도는 유클리드 공간에서의 거리 제곱에 비례하는 값이다."
      ]
    },
    {
      "cell_type": "code",
      "metadata": {
        "colab": {
          "base_uri": "https://localhost:8080/"
        },
        "id": "PJI1QDl5p3o5",
        "outputId": "c7620b82-525d-442e-e90a-43fe56c16c91"
      },
      "source": [
        "sim_options = {'name': 'msd'}\r\n",
        "algo = surprise.KNNBasic(sim_options=sim_options)\r\n",
        "cross_validate(algo, data)[\"test_mae\"].mean()"
      ],
      "execution_count": 17,
      "outputs": [
        {
          "output_type": "stream",
          "text": [
            "Computing the msd similarity matrix...\n",
            "Done computing similarity matrix.\n",
            "Computing the msd similarity matrix...\n",
            "Done computing similarity matrix.\n",
            "Computing the msd similarity matrix...\n",
            "Done computing similarity matrix.\n",
            "Computing the msd similarity matrix...\n",
            "Done computing similarity matrix.\n",
            "Computing the msd similarity matrix...\n",
            "Done computing similarity matrix.\n"
          ],
          "name": "stdout"
        },
        {
          "output_type": "execute_result",
          "data": {
            "text/plain": [
              "0.7725553185529976"
            ]
          },
          "metadata": {
            "tags": []
          },
          "execution_count": 17
        }
      ]
    },
    {
      "cell_type": "markdown",
      "metadata": {
        "id": "ZWds-lwOraM7"
      },
      "source": [
        "**코사인 유사도(Cosine Similarity)**는 두 특성 벡터의 각도에 대한 코사인 값을 말한다. 벡터 x와 벡터 y 사이의 각도 θ 는 두 벡터의 내적 x⋅y와 다음과 같은 관계가 있다. 각도 θ가 0도이면 코사인 유사도는 1이다. 반대로 각도 θ가 90도이면 코사인 유사도는 0이다."
      ]
    },
    {
      "cell_type": "code",
      "metadata": {
        "colab": {
          "base_uri": "https://localhost:8080/"
        },
        "id": "hDy0l2oEmIhs",
        "outputId": "aacbec73-bf63-4a3b-e42c-f542f74b2b84"
      },
      "source": [
        "sim_options = {'name': 'cosine'}\r\n",
        "algo = surprise.KNNBasic(sim_options=sim_options)\r\n",
        "cross_validate(algo, data)[\"test_mae\"].mean()"
      ],
      "execution_count": 18,
      "outputs": [
        {
          "output_type": "stream",
          "text": [
            "Computing the cosine similarity matrix...\n",
            "Done computing similarity matrix.\n",
            "Computing the cosine similarity matrix...\n",
            "Done computing similarity matrix.\n",
            "Computing the cosine similarity matrix...\n",
            "Done computing similarity matrix.\n",
            "Computing the cosine similarity matrix...\n",
            "Done computing similarity matrix.\n",
            "Computing the cosine similarity matrix...\n",
            "Done computing similarity matrix.\n"
          ],
          "name": "stdout"
        },
        {
          "output_type": "execute_result",
          "data": {
            "text/plain": [
              "0.804580222759629"
            ]
          },
          "metadata": {
            "tags": []
          },
          "execution_count": 18
        }
      ]
    },
    {
      "cell_type": "markdown",
      "metadata": {
        "id": "CwqXB_kvrrQR"
      },
      "source": [
        "**피어슨 유사도(Pearson Similarity)**는 두 벡터의 상관계수(Pearson correlation coefficient)를 말한다"
      ]
    },
    {
      "cell_type": "code",
      "metadata": {
        "colab": {
          "base_uri": "https://localhost:8080/"
        },
        "id": "O6Hx_9ljro3o",
        "outputId": "a52db72c-aef4-491d-f8e9-babb94c1557b"
      },
      "source": [
        "sim_options = {'name': 'pearson'}\r\n",
        "algo = surprise.KNNBasic(sim_options=sim_options)\r\n",
        "cross_validate(algo, data)[\"test_mae\"].mean()"
      ],
      "execution_count": 19,
      "outputs": [
        {
          "output_type": "stream",
          "text": [
            "Computing the pearson similarity matrix...\n",
            "Done computing similarity matrix.\n",
            "Computing the pearson similarity matrix...\n",
            "Done computing similarity matrix.\n",
            "Computing the pearson similarity matrix...\n",
            "Done computing similarity matrix.\n",
            "Computing the pearson similarity matrix...\n",
            "Done computing similarity matrix.\n",
            "Computing the pearson similarity matrix...\n",
            "Done computing similarity matrix.\n"
          ],
          "name": "stdout"
        },
        {
          "output_type": "execute_result",
          "data": {
            "text/plain": [
              "0.8041355708004616"
            ]
          },
          "metadata": {
            "tags": []
          },
          "execution_count": 19
        }
      ]
    },
    {
      "cell_type": "markdown",
      "metadata": {
        "id": "mQBzF-4Vr5TW"
      },
      "source": [
        "**피어슨-베이스라인 유사도(Pearson-Baseline Similarity)**는 피어슨 유사도와 같이 상관계수를 구하지만 각 벡터의 기댓값을 단순 평균이 아니라 베이스라인 모형에서 예측한 값을 사용한다."
      ]
    },
    {
      "cell_type": "code",
      "metadata": {
        "colab": {
          "base_uri": "https://localhost:8080/"
        },
        "id": "jlbpwGbcr03d",
        "outputId": "ea19882f-7ca4-43ad-e503-b93f9afc719e"
      },
      "source": [
        "sim_options = {'name': 'pearson_baseline'}\r\n",
        "algo = surprise.KNNBasic(sim_options=sim_options)\r\n",
        "cross_validate(algo, data)[\"test_mae\"].mean()"
      ],
      "execution_count": 20,
      "outputs": [
        {
          "output_type": "stream",
          "text": [
            "Estimating biases using als...\n",
            "Computing the pearson_baseline similarity matrix...\n",
            "Done computing similarity matrix.\n",
            "Estimating biases using als...\n",
            "Computing the pearson_baseline similarity matrix...\n",
            "Done computing similarity matrix.\n",
            "Estimating biases using als...\n",
            "Computing the pearson_baseline similarity matrix...\n",
            "Done computing similarity matrix.\n",
            "Estimating biases using als...\n",
            "Computing the pearson_baseline similarity matrix...\n",
            "Done computing similarity matrix.\n",
            "Estimating biases using als...\n",
            "Computing the pearson_baseline similarity matrix...\n",
            "Done computing similarity matrix.\n"
          ],
          "name": "stdout"
        },
        {
          "output_type": "execute_result",
          "data": {
            "text/plain": [
              "0.7913835668181246"
            ]
          },
          "metadata": {
            "tags": []
          },
          "execution_count": 20
        }
      ]
    },
    {
      "cell_type": "markdown",
      "metadata": {
        "id": "B5BUD-ZPseq1"
      },
      "source": [
        "#### KNN 가중치 예측 방법\r\n",
        "일단 유사도가 구해지면 평점을 예측하고자 하는 사용자(또는 상품)와 유사도가 큰 k개의 사용자(또는 상품) 벡터를 사용하여 가중 평균을 구해서 가중치를 예측한다. 이러한 방법을 KNN(K Nearest Neighbors) 기반 예측 방법이라고 한다.\r\n",
        "\r\n",
        "surprise 패키지에서는 다음과 같은 3가지의 KNN 기반 가중치 예측 알고리즘 클래스를 제공한다.\r\n",
        "\r\n",
        "- KNNBasic\r\n",
        "  - 평점들을 단순히 가중 평균한다.\r\n",
        "- KNNWithMeans\r\n",
        "  - 평점들을 평균값 기준으로 가중 평균한다.\r\n",
        "- KNNBaseline\r\n",
        "  - 평점들을 베이스라인 모형의 값 기준으로 가중 평균한다."
      ]
    },
    {
      "cell_type": "code",
      "metadata": {
        "colab": {
          "base_uri": "https://localhost:8080/"
        },
        "id": "isz8p4gksF0q",
        "outputId": "6e286fa0-d563-4ce5-e55b-35b6b92e9d5f"
      },
      "source": [
        "# 평균값 기준으로 가중 평균\r\n",
        "sim_options = {'name': 'pearson_baseline'}\r\n",
        "algo = surprise.KNNWithMeans(sim_options=sim_options)\r\n",
        "cross_validate(algo, data)[\"test_mae\"].mean()"
      ],
      "execution_count": 21,
      "outputs": [
        {
          "output_type": "stream",
          "text": [
            "Estimating biases using als...\n",
            "Computing the pearson_baseline similarity matrix...\n",
            "Done computing similarity matrix.\n",
            "Estimating biases using als...\n",
            "Computing the pearson_baseline similarity matrix...\n",
            "Done computing similarity matrix.\n",
            "Estimating biases using als...\n",
            "Computing the pearson_baseline similarity matrix...\n",
            "Done computing similarity matrix.\n",
            "Estimating biases using als...\n",
            "Computing the pearson_baseline similarity matrix...\n",
            "Done computing similarity matrix.\n",
            "Estimating biases using als...\n",
            "Computing the pearson_baseline similarity matrix...\n",
            "Done computing similarity matrix.\n"
          ],
          "name": "stdout"
        },
        {
          "output_type": "execute_result",
          "data": {
            "text/plain": [
              "0.7310038240960768"
            ]
          },
          "metadata": {
            "tags": []
          },
          "execution_count": 21
        }
      ]
    },
    {
      "cell_type": "code",
      "metadata": {
        "colab": {
          "base_uri": "https://localhost:8080/"
        },
        "id": "YSLJlO8Ps0RN",
        "outputId": "6cab10af-5206-4e6a-ffae-bcdb0fc55d87"
      },
      "source": [
        "# 베이스라인 모형의 값 기준으로 가중 평균\r\n",
        "sim_options = {'name': 'pearson_baseline'}\r\n",
        "algo = surprise.KNNBaseline(sim_options=sim_options)\r\n",
        "cross_validate(algo, data)[\"test_mae\"].mean()"
      ],
      "execution_count": 22,
      "outputs": [
        {
          "output_type": "stream",
          "text": [
            "Estimating biases using als...\n",
            "Computing the pearson_baseline similarity matrix...\n",
            "Done computing similarity matrix.\n",
            "Estimating biases using als...\n",
            "Computing the pearson_baseline similarity matrix...\n",
            "Done computing similarity matrix.\n",
            "Estimating biases using als...\n",
            "Computing the pearson_baseline similarity matrix...\n",
            "Done computing similarity matrix.\n",
            "Estimating biases using als...\n",
            "Computing the pearson_baseline similarity matrix...\n",
            "Done computing similarity matrix.\n",
            "Estimating biases using als...\n",
            "Computing the pearson_baseline similarity matrix...\n",
            "Done computing similarity matrix.\n"
          ],
          "name": "stdout"
        },
        {
          "output_type": "execute_result",
          "data": {
            "text/plain": [
              "0.7214023017301179"
            ]
          },
          "metadata": {
            "tags": []
          },
          "execution_count": 22
        }
      ]
    },
    {
      "cell_type": "markdown",
      "metadata": {
        "id": "d1mAZagbtDgR"
      },
      "source": [
        "### Latent Factor 모형\r\n",
        "사용자의 특성 벡터나 상품의 특성 벡터의 길이는 수천에서 수십억에 달하는 긴 크기가 될 수도 있다.\r\n",
        "\r\n",
        "Latent Factor 모형은 이렇게 긴 사용자 특성이나 상품 특성을 몇 개의 요인 벡터로 간략화(approximate)할 수 있다는 가정에서 출발한 모형이다.\r\n",
        "PCA(Principle Component Analysis)를 사용하면 긴 특성 벡터를 소수의 차원으로 차원 축소할 수 있듯이 사용자의 특성도 차원 축소 할 수 있다.\r\n",
        "\r\n",
        "영화에 대한 평점을 주는 경우, 코미디, 액션, 드라마 등 몇개의 장르 요인이 있어서 사용자는 특정한 장르 요소에 대해 더 점수를 많이 주거나 적게 줄 수 있다. 그리고 영화 자체도 이러한 장르 요인을 가지고 있다면 해당 사용자의 그 영화에 대한 평점은 사용자의 장르 요인 벡터와 영화의 장르 요인 벡터의 내적으로 표시할 수 있다."
      ]
    },
    {
      "cell_type": "markdown",
      "metadata": {
        "id": "g2cnwxMithqR"
      },
      "source": [
        "#### Matrix Factorization\r\n",
        "\r\n",
        "Matrix Factorization 방법은 모든 사용자와 상품에 대해 다음 오차 함수를 최소화하는 요인 벡터를 찾아낸다. 즉 다음과 같은 행렬 P, Q를 찾는다.\r\n",
        "\r\n",
        "R≈PQ<sup>T</sup>\r\n",
        "\r\n",
        "여기에서\r\n",
        "\r\n",
        "R∈R<sup>m×n</sup> : m 사용자와 n 상품의 평점 행렬\r\n",
        "\r\n",
        "P∈R<sup>m×k</sup> : m 사용자와 k 요인의 관계 행렬\r\n",
        "\r\n",
        "Q∈R<sup>n×k</sup> : n 상품과 k 요인의 관계 행렬\r\n",
        "\r\n",
        "\r\n",
        "\r\n",
        "\r\n"
      ]
    },
    {
      "cell_type": "markdown",
      "metadata": {
        "id": "7LW04rz2tydV"
      },
      "source": [
        "#### SVD (Singular Value Decomposition)\r\n",
        "SVD (Singular Value Decomposition) 는 Matrix Factorization 문제를 푸는 방법 중 하나이다.\r\n",
        "\r\n",
        "m×n 크기의 행렬 R은 다음과 같이 세 행렬의 곱으로 나타낼 수 있다. 이를 특이치 분해(Singular Value Decomposition) 라고 한다.\r\n",
        "\r\n",
        "R=UΣV<sup>T</sup>\r\n",
        "\r\n",
        "\r\n"
      ]
    },
    {
      "cell_type": "code",
      "metadata": {
        "colab": {
          "base_uri": "https://localhost:8080/"
        },
        "id": "5YgVsNwgvHC3",
        "outputId": "b07b937c-5bd3-4faf-f0d5-d8f2d0812dd8"
      },
      "source": [
        "%%time\r\n",
        "algo = surprise.SVD(n_factors=100)\r\n",
        "print(cross_validate(algo, data)[\"test_mae\"].mean())"
      ],
      "execution_count": 25,
      "outputs": [
        {
          "output_type": "stream",
          "text": [
            "0.7377587448833791\n",
            "CPU times: user 27.1 s, sys: 55 ms, total: 27.2 s\n",
            "Wall time: 27.3 s\n"
          ],
          "name": "stdout"
        }
      ]
    },
    {
      "cell_type": "markdown",
      "metadata": {
        "id": "E2DWDChtvOwG"
      },
      "source": [
        "#### NMF(Non-negative matrix factorization)"
      ]
    },
    {
      "cell_type": "code",
      "metadata": {
        "colab": {
          "base_uri": "https://localhost:8080/"
        },
        "id": "h9Fm4Tz6vHVk",
        "outputId": "5a5eaec1-15d6-4229-ab75-6c362e597cd4"
      },
      "source": [
        "%%time\r\n",
        "algo = surprise.NMF(n_factors=100)\r\n",
        "print(cross_validate(algo, data)[\"test_mae\"].mean())"
      ],
      "execution_count": 24,
      "outputs": [
        {
          "output_type": "stream",
          "text": [
            "CPU times: user 1min 27s, sys: 158 ms, total: 1min 27s\n",
            "Wall time: 1min 27s\n"
          ],
          "name": "stdout"
        }
      ]
    },
    {
      "cell_type": "code",
      "metadata": {
        "id": "cgpMuxm9vQj0"
      },
      "source": [
        ""
      ],
      "execution_count": null,
      "outputs": []
    }
  ]
}