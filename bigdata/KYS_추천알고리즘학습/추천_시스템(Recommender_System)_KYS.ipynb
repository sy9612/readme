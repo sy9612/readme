{
  "nbformat": 4,
  "nbformat_minor": 0,
  "metadata": {
    "colab": {
      "name": "_13 추천 시스템(Recommender System).ipynb의 사본",
      "provenance": [],
      "collapsed_sections": []
    },
    "kernelspec": {
      "name": "python3",
      "display_name": "Python 3"
    }
  },
  "cells": [
    {
      "cell_type": "markdown",
      "metadata": {
        "id": "OWmwhJvMLxu-"
      },
      "source": [
        "강의 유튜브 : https://www.youtube.com/watch?v=6TP51jvjLsE"
      ]
    },
    {
      "cell_type": "markdown",
      "metadata": {
        "id": "oIAnNuuX2EOr"
      },
      "source": [
        "# 추천 시스템 (Recommender Systems)\n",
        "\n",
        "* 추천 시스템은 크게 두가지로 구분 가능\n",
        "  * 컨텐츠 기반 필터링 (content-based filtering)\n",
        "  * 협업 필터링 (collaborative filtering)\n",
        "* 두가지를 조합한 hybrid 방식도 가능\n",
        "* 컨텐츠 기반 필터링은 지금까지 사용자의 이전 행동과 명시적 피드백을 통해 사용자가 좋아하는 것과 유사한 항목을 추천\n",
        "* 협업 필터링은 사용자와 항목간의 유사성을 동시에 사용해 추천"
      ]
    },
    {
      "cell_type": "markdown",
      "metadata": {
        "id": "pKQvtsfX2bRf"
      },
      "source": [
        "## Surprise\n",
        "\n",
        "* 추천 시스템 개발을 위한 라이브러리\n",
        "* 다양한 모델과 데이터 제공\n",
        "* scikit-learn과 유사한 사용 방법"
      ]
    },
    {
      "cell_type": "code",
      "metadata": {
        "id": "AvuLuP8J16Eb",
        "colab": {
          "base_uri": "https://localhost:8080/"
        },
        "outputId": "f34dd36e-61aa-405b-e0b5-a93bb9e3c635"
      },
      "source": [
        "!pip install scikit-surprise"
      ],
      "execution_count": null,
      "outputs": [
        {
          "output_type": "stream",
          "text": [
            "Collecting scikit-surprise\n",
            "\u001b[?25l  Downloading https://files.pythonhosted.org/packages/97/37/5d334adaf5ddd65da99fc65f6507e0e4599d092ba048f4302fe8775619e8/scikit-surprise-1.1.1.tar.gz (11.8MB)\n",
            "\u001b[K     |████████████████████████████████| 11.8MB 280kB/s \n",
            "\u001b[?25hRequirement already satisfied: joblib>=0.11 in /usr/local/lib/python3.7/dist-packages (from scikit-surprise) (1.0.1)\n",
            "Requirement already satisfied: numpy>=1.11.2 in /usr/local/lib/python3.7/dist-packages (from scikit-surprise) (1.19.5)\n",
            "Requirement already satisfied: scipy>=1.0.0 in /usr/local/lib/python3.7/dist-packages (from scikit-surprise) (1.4.1)\n",
            "Requirement already satisfied: six>=1.10.0 in /usr/local/lib/python3.7/dist-packages (from scikit-surprise) (1.15.0)\n",
            "Building wheels for collected packages: scikit-surprise\n",
            "  Building wheel for scikit-surprise (setup.py) ... \u001b[?25l\u001b[?25hdone\n",
            "  Created wheel for scikit-surprise: filename=scikit_surprise-1.1.1-cp37-cp37m-linux_x86_64.whl size=1617546 sha256=a23cbff970b1b948044d96e7b0cb712ee0fd3a20babebe0d2becdf0fb1bd4a4e\n",
            "  Stored in directory: /root/.cache/pip/wheels/78/9c/3d/41b419c9d2aff5b6e2b4c0fc8d25c538202834058f9ed110d0\n",
            "Successfully built scikit-surprise\n",
            "Installing collected packages: scikit-surprise\n",
            "Successfully installed scikit-surprise-1.1.1\n"
          ],
          "name": "stdout"
        }
      ]
    },
    {
      "cell_type": "markdown",
      "metadata": {
        "id": "f8S2mbY13TPl"
      },
      "source": [
        "간단한 surprise 실습"
      ]
    },
    {
      "cell_type": "code",
      "metadata": {
        "id": "FXrDk0XH2vbx"
      },
      "source": [
        "from surprise import SVD\r\n",
        "from surprise import Dataset\r\n",
        "from surprise.model_selection import cross_validate"
      ],
      "execution_count": null,
      "outputs": []
    },
    {
      "cell_type": "code",
      "metadata": {
        "id": "M0SJB24k3ReQ",
        "colab": {
          "base_uri": "https://localhost:8080/"
        },
        "outputId": "d1e24787-fd67-41ac-81b5-c3bfe3162652"
      },
      "source": [
        "data = Dataset.load_builtin('ml-100k', prompt=False)\r\n",
        "data.raw_ratings[:10]"
      ],
      "execution_count": null,
      "outputs": [
        {
          "output_type": "stream",
          "text": [
            "Trying to download dataset from http://files.grouplens.org/datasets/movielens/ml-100k.zip...\n",
            "Done! Dataset ml-100k has been saved to /root/.surprise_data/ml-100k\n"
          ],
          "name": "stdout"
        },
        {
          "output_type": "execute_result",
          "data": {
            "text/plain": [
              "[('196', '242', 3.0, '881250949'),\n",
              " ('186', '302', 3.0, '891717742'),\n",
              " ('22', '377', 1.0, '878887116'),\n",
              " ('244', '51', 2.0, '880606923'),\n",
              " ('166', '346', 1.0, '886397596'),\n",
              " ('298', '474', 4.0, '884182806'),\n",
              " ('115', '265', 2.0, '881171488'),\n",
              " ('253', '465', 5.0, '891628467'),\n",
              " ('305', '451', 3.0, '886324817'),\n",
              " ('6', '86', 3.0, '883603013')]"
            ]
          },
          "metadata": {
            "tags": []
          },
          "execution_count": 6
        }
      ]
    },
    {
      "cell_type": "code",
      "metadata": {
        "id": "IGZjsosZ3jwy"
      },
      "source": [
        "model = SVD()"
      ],
      "execution_count": null,
      "outputs": []
    },
    {
      "cell_type": "code",
      "metadata": {
        "id": "nAF9VVHt9qz9",
        "colab": {
          "base_uri": "https://localhost:8080/"
        },
        "outputId": "7b8c16f9-e85d-472b-c74d-a0b2ac7458f1"
      },
      "source": [
        "cross_validate(model, data, measures=['rmse', 'mae'], cv=5, verbose=True)"
      ],
      "execution_count": null,
      "outputs": [
        {
          "output_type": "stream",
          "text": [
            "Evaluating RMSE, MAE of algorithm SVD on 5 split(s).\n",
            "\n",
            "                  Fold 1  Fold 2  Fold 3  Fold 4  Fold 5  Mean    Std     \n",
            "RMSE (testset)    0.9413  0.9404  0.9310  0.9396  0.9326  0.9370  0.0043  \n",
            "MAE (testset)     0.7408  0.7408  0.7334  0.7402  0.7363  0.7383  0.0030  \n",
            "Fit time          4.68    4.75    4.78    4.78    4.77    4.75    0.04    \n",
            "Test time         0.15    0.23    0.15    0.23    0.15    0.18    0.04    \n"
          ],
          "name": "stdout"
        },
        {
          "output_type": "execute_result",
          "data": {
            "text/plain": [
              "{'fit_time': (4.681654930114746,\n",
              "  4.751139879226685,\n",
              "  4.780534744262695,\n",
              "  4.780453205108643,\n",
              "  4.771507263183594),\n",
              " 'test_mae': array([0.74084706, 0.74080194, 0.73335648, 0.74018783, 0.73629595]),\n",
              " 'test_rmse': array([0.94128125, 0.94044384, 0.93104009, 0.93958935, 0.93263007]),\n",
              " 'test_time': (0.15187406539916992,\n",
              "  0.23122739791870117,\n",
              "  0.1470198631286621,\n",
              "  0.22637200355529785,\n",
              "  0.14746403694152832)}"
            ]
          },
          "metadata": {
            "tags": []
          },
          "execution_count": 8
        }
      ]
    },
    {
      "cell_type": "markdown",
      "metadata": {
        "id": "tP5L65zvCRlv"
      },
      "source": [
        "## 컨텐츠 기반 필터링 (Content-based Filtering)\n",
        "\n",
        "* 컨텐츠 기반 필터링은 이전의 행동과 명시적 피드백을 통해 좋아하는 것과 유사한 항목을 추천\n",
        "  * ex) 내가 지금 까지 시청한 영화 목록과 다른 사용자의 시청 목록을 비교해 나와 비슷한 취향의 사용자가 시청한 영화를 추천\n",
        "* 유사도를 기반으로 추천\n",
        "* 컨텐츠 기반 필터링은 다음과 같은 장단점이 있다.\n",
        "  * 장점\n",
        "    * 많은 수의 사용자를 대상으로 쉽게 확장 가능\n",
        "    * 사용자가 관심을 갖지 않던 상품 추천 가능\n",
        "  * 단점\n",
        "    * 입력 특성을 직접 설계해야 하기 때문에 많은 도메인 지식이 필요\n",
        "    * 사용자의 기존 관심사항을 기반으로만 추천 가능"
      ]
    },
    {
      "cell_type": "code",
      "metadata": {
        "id": "M81hRKa9-9pK"
      },
      "source": [
        "import numpy as np\r\n",
        "from surprise import Dataset"
      ],
      "execution_count": null,
      "outputs": []
    },
    {
      "cell_type": "markdown",
      "metadata": {
        "id": "0NyTt1u8LLCP"
      },
      "source": [
        "* 이진 벡터의 내적을 통해 다른 사용자들과의 유사도 구하기\n",
        "* 나와 가장 높은 유사도를 가진 사용자의 시청 목록을 추천"
      ]
    },
    {
      "cell_type": "code",
      "metadata": {
        "id": "-Y3Y_rNWH-zT"
      },
      "source": [
        "data = Dataset.load_builtin('ml-100k', prompt=False)\r\n",
        "raw_data = np.array(data.raw_ratings, dtype=int)"
      ],
      "execution_count": null,
      "outputs": []
    },
    {
      "cell_type": "code",
      "metadata": {
        "id": "z60YDlPOJzSr"
      },
      "source": [
        "# user_id, movie_id 0부터 시작하기 위해서 1씩 뺀듯\r\n",
        "raw_data[:, 0] -= 1\r\n",
        "raw_data[:, 1] -= 1"
      ],
      "execution_count": null,
      "outputs": []
    },
    {
      "cell_type": "code",
      "metadata": {
        "id": "4f20U_BFIbQA",
        "colab": {
          "base_uri": "https://localhost:8080/"
        },
        "outputId": "823d971a-7014-453d-9a12-80dad1c745b8"
      },
      "source": [
        "# (user 수, movie 수) shape\r\n",
        "n_users = np.max(raw_data[:, 0])\r\n",
        "n_movies = np.max(raw_data[:, 1])\r\n",
        "shape = (n_users + 1, n_movies + 1)\r\n",
        "shape"
      ],
      "execution_count": null,
      "outputs": [
        {
          "output_type": "execute_result",
          "data": {
            "text/plain": [
              "(943, 1682)"
            ]
          },
          "metadata": {
            "tags": []
          },
          "execution_count": 13
        }
      ]
    },
    {
      "cell_type": "code",
      "metadata": {
        "id": "JT6HXk_8I4Zd",
        "colab": {
          "base_uri": "https://localhost:8080/"
        },
        "outputId": "253cc8d2-5c1b-4654-d775-fc04eda21653"
      },
      "source": [
        "# user X movie 매트릭스 (평점이 있는 부분은 1로 표시)\r\n",
        "adj_matrix = np.ndarray(shape, dtype=int)\r\n",
        "for user_id, movie_id, rating, time in raw_data:\r\n",
        "  adj_matrix[user_id][movie_id] = 1.\r\n",
        "adj_matrix"
      ],
      "execution_count": null,
      "outputs": [
        {
          "output_type": "execute_result",
          "data": {
            "text/plain": [
              "array([[1, 1, 1, ..., 0, 0, 0],\n",
              "       [1, 0, 0, ..., 0, 0, 0],\n",
              "       [0, 0, 0, ..., 0, 0, 0],\n",
              "       ...,\n",
              "       [1, 0, 0, ..., 0, 0, 0],\n",
              "       [0, 0, 0, ..., 0, 0, 0],\n",
              "       [0, 1, 0, ..., 0, 0, 0]])"
            ]
          },
          "metadata": {
            "tags": []
          },
          "execution_count": 14
        }
      ]
    },
    {
      "cell_type": "code",
      "metadata": {
        "id": "bVShJje-Jn0x",
        "colab": {
          "base_uri": "https://localhost:8080/"
        },
        "outputId": "a0f692bc-0904-4c1f-c603-45b498b65093"
      },
      "source": [
        "# 내적연산을 통해 유사도 구하기\r\n",
        "\r\n",
        "my_id, my_vector = 0, adj_matrix[0]\r\n",
        "best_match, best_match_id, best_match_vector = -1, -1, []\r\n",
        "\r\n",
        "for user_id, user_vector in enumerate(adj_matrix):\r\n",
        "  if my_id != user_id:\r\n",
        "    similarity = np.dot(my_vector, user_vector)\r\n",
        "    if similarity > best_match:\r\n",
        "      best_match = similarity\r\n",
        "      best_match_id = user_id\r\n",
        "      best_match_vector = user_vector\r\n",
        "\r\n",
        "print('Best Match: {}, Best Match ID: {}'.format(best_match, best_match_id))"
      ],
      "execution_count": null,
      "outputs": [
        {
          "output_type": "stream",
          "text": [
            "Best Match: 183, Best Match ID: 275\n"
          ],
          "name": "stdout"
        }
      ]
    },
    {
      "cell_type": "code",
      "metadata": {
        "id": "mRr8UnD7MB7U",
        "colab": {
          "base_uri": "https://localhost:8080/"
        },
        "outputId": "ada935e2-fb7a-453a-ab29-2a507d76c423"
      },
      "source": [
        "# 275번은 봤지만 나는 안 본 영화를 추천\r\n",
        "\r\n",
        "recommend_list = []\r\n",
        "for i, log in enumerate(zip(my_vector, best_match_vector)):\r\n",
        "  log1, log2 = log\r\n",
        "  if log1 < 1. and log2 > 0.:\r\n",
        "    recommend_list.append(i)\r\n",
        "print(recommend_list)"
      ],
      "execution_count": null,
      "outputs": [
        {
          "output_type": "stream",
          "text": [
            "[272, 273, 275, 280, 281, 283, 287, 288, 289, 290, 292, 293, 297, 299, 300, 301, 302, 306, 312, 314, 315, 316, 317, 321, 322, 323, 324, 327, 330, 331, 332, 333, 339, 342, 345, 346, 353, 354, 355, 356, 357, 363, 364, 365, 366, 372, 374, 378, 379, 381, 382, 383, 384, 385, 386, 387, 390, 391, 392, 394, 395, 396, 398, 400, 401, 402, 403, 404, 405, 406, 407, 408, 409, 410, 412, 414, 416, 417, 418, 419, 420, 422, 424, 425, 426, 427, 428, 430, 431, 432, 435, 442, 446, 447, 448, 449, 450, 451, 452, 454, 455, 457, 460, 461, 462, 468, 469, 470, 471, 472, 473, 474, 478, 495, 500, 507, 517, 522, 525, 530, 539, 540, 543, 545, 546, 548, 549, 550, 551, 553, 557, 558, 560, 561, 562, 563, 565, 566, 567, 568, 570, 571, 574, 575, 576, 577, 580, 581, 582, 585, 587, 589, 590, 594, 596, 602, 623, 626, 627, 630, 633, 635, 639, 646, 648, 651, 652, 654, 657, 664, 668, 671, 677, 678, 681, 683, 684, 685, 690, 691, 692, 695, 696, 708, 709, 714, 718, 719, 720, 724, 726, 727, 731, 733, 734, 736, 738, 741, 742, 745, 746, 747, 749, 750, 754, 758, 762, 764, 767, 768, 769, 770, 771, 772, 773, 778, 779, 782, 785, 788, 789, 793, 795, 796, 799, 800, 801, 802, 805, 806, 808, 815, 819, 822, 824, 830, 839, 842, 843, 844, 852, 853, 870, 875, 878, 880, 889, 901, 914, 915, 918, 921, 927, 929, 930, 938, 940, 941, 942, 948, 950, 958, 968, 973, 974, 976, 992, 999, 1005, 1009, 1010, 1012, 1015, 1018, 1027, 1030, 1034, 1035, 1041, 1043, 1045, 1046, 1051, 1055, 1072, 1073, 1078, 1080, 1082, 1088, 1089, 1090, 1094, 1097, 1108, 1109, 1117, 1128, 1130, 1134, 1139, 1140, 1144, 1156, 1169, 1171, 1179, 1193, 1198, 1207, 1209, 1212, 1217, 1219, 1220, 1227, 1231, 1238, 1239, 1243, 1244, 1252, 1266, 1272, 1273, 1300, 1313, 1406, 1412, 1415, 1470, 1477, 1480, 1481, 1482]\n"
          ],
          "name": "stdout"
        }
      ]
    },
    {
      "cell_type": "markdown",
      "metadata": {
        "id": "zR7-LITWZQnJ"
      },
      "source": [
        "* 유클리드 거리를 사용해 추천\n",
        "$$euclidean = \\sqrt{\\sum_{d=1}^{D}(A_i - B_i)^2}$$\n",
        "* 거리가 가까울 수록(값이 작을 수록) 나와 유사한 사용자"
      ]
    },
    {
      "cell_type": "code",
      "metadata": {
        "id": "WhbLJGz3NuNA",
        "colab": {
          "base_uri": "https://localhost:8080/"
        },
        "outputId": "634a05d2-5e8e-4cb4-d39a-564863ab5697"
      },
      "source": [
        "my_id, my_vector = 0, adj_matrix[0]\r\n",
        "best_match, best_match_id, best_match_vector = 9999, -1, []\r\n",
        "\r\n",
        "for user_id, user_vector in enumerate(adj_matrix):\r\n",
        "  if my_id != user_id:\r\n",
        "    # 유클리디안 거리 공식\r\n",
        "    euclidean_dist = np.sqrt(np.sum(np.square(my_vector - user_vector)))\r\n",
        "    if euclidean_dist < best_match:\r\n",
        "      best_match = euclidean_dist\r\n",
        "      best_match_id = user_id\r\n",
        "      best_match_vector = user_vector\r\n",
        "\r\n",
        "print('Best Match: {}, Best Match ID: {}'.format(best_match, best_match_id))"
      ],
      "execution_count": null,
      "outputs": [
        {
          "output_type": "stream",
          "text": [
            "Best Match: 14.832396974191326, Best Match ID: 737\n"
          ],
          "name": "stdout"
        }
      ]
    },
    {
      "cell_type": "code",
      "metadata": {
        "id": "xbS037xebA76",
        "colab": {
          "base_uri": "https://localhost:8080/"
        },
        "outputId": "ef40dafa-e30d-40bc-cfc7-b214961e2ddd"
      },
      "source": [
        "recommend_list = []\r\n",
        "for i, log in enumerate(zip(my_vector, best_match_vector)):\r\n",
        "  log1, log2 = log\r\n",
        "  if log1 < 1. and log2 > 0.:\r\n",
        "    recommend_list.append(i)\r\n",
        "print(recommend_list)"
      ],
      "execution_count": null,
      "outputs": [
        {
          "output_type": "stream",
          "text": [
            "[297, 312, 317, 342, 356, 366, 379, 384, 392, 402, 404, 407, 417, 422, 428, 433, 448, 454, 469, 473, 495, 510, 516, 526, 527, 549, 567, 602, 635, 649, 650, 654, 658, 661, 664, 696, 731, 746, 750, 754, 915, 918, 925, 929, 950, 968, 1015, 1046]\n"
          ],
          "name": "stdout"
        }
      ]
    },
    {
      "cell_type": "markdown",
      "metadata": {
        "id": "52c6nfonct7x"
      },
      "source": [
        "* 코사인 유사도를 사용해 추천\n",
        "\n",
        "\\begin{equation}\n",
        "cos \\theta = \\frac{A \\cdot B}{||A|| \\times ||B||}\n",
        "\\end{equation}\n",
        "* 두 벡터가 이루고 있는 각을 계산"
      ]
    },
    {
      "cell_type": "code",
      "metadata": {
        "id": "WEJMnmAYejJW"
      },
      "source": [
        "# 코사인 유사도 공식\r\n",
        "def compute_cos_similarity(v1, v2):\r\n",
        "  norm1 = np.sqrt(np.sum(np.square(v1)))\r\n",
        "  norm2 = np.sqrt(np.sum(np.square(v2)))\r\n",
        "  dot = np.dot(v1, v2)\r\n",
        "  return dot / (norm1 * norm2)"
      ],
      "execution_count": null,
      "outputs": []
    },
    {
      "cell_type": "code",
      "metadata": {
        "id": "eouFYlVZb3iT",
        "colab": {
          "base_uri": "https://localhost:8080/"
        },
        "outputId": "3a4300a2-d417-44af-ce4c-3f7b6f8b1421"
      },
      "source": [
        "my_id, my_vector = 0, adj_matrix[0]\r\n",
        "best_match, best_match_id, best_match_vector = -1, -1, []\r\n",
        "\r\n",
        "for user_id, user_vector in enumerate(adj_matrix):\r\n",
        "  if my_id != user_id:\r\n",
        "    cos_similarity = compute_cos_similarity(my_vector, user_vector)\r\n",
        "    if cos_similarity > best_match:\r\n",
        "      best_match = cos_similarity\r\n",
        "      best_match_id = user_id\r\n",
        "      best_match_vector = user_vector\r\n",
        "\r\n",
        "print('Best Match: {}, Best Match ID: {}'.format(best_match, best_match_id))"
      ],
      "execution_count": null,
      "outputs": [
        {
          "output_type": "stream",
          "text": [
            "Best Match: 0.5278586163659506, Best Match ID: 915\n"
          ],
          "name": "stdout"
        }
      ]
    },
    {
      "cell_type": "code",
      "metadata": {
        "id": "HVhjBMure_4D",
        "colab": {
          "base_uri": "https://localhost:8080/"
        },
        "outputId": "aa6c6f7a-3658-48f9-c0c3-e6c56c9404c1"
      },
      "source": [
        "recommend_list = []\r\n",
        "for i, log in enumerate(zip(my_vector, best_match_vector)):\r\n",
        "  log1, log2 = log\r\n",
        "  if log1 < 1. and log2 > 0.:\r\n",
        "    recommend_list.append(i)\r\n",
        "print(recommend_list)"
      ],
      "execution_count": null,
      "outputs": [
        {
          "output_type": "stream",
          "text": [
            "[272, 275, 279, 280, 283, 285, 289, 294, 297, 316, 317, 355, 365, 366, 368, 379, 380, 381, 384, 386, 392, 398, 401, 404, 416, 420, 422, 424, 426, 427, 430, 432, 450, 460, 461, 466, 469, 471, 473, 474, 475, 479, 482, 483, 497, 505, 508, 510, 511, 522, 526, 527, 529, 530, 534, 536, 540, 545, 548, 549, 556, 557, 558, 560, 565, 567, 568, 569, 577, 580, 581, 582, 592, 596, 630, 635, 639, 641, 649, 651, 654, 673, 677, 678, 683, 684, 692, 696, 701, 703, 707, 708, 709, 712, 714, 719, 720, 726, 731, 734, 736, 738, 740, 745, 747, 754, 755, 761, 762, 763, 766, 780, 789, 791, 805, 819, 823, 824, 830, 843, 862, 865, 918, 929, 930, 938, 942, 943, 947, 958, 959, 960, 970, 977, 1004, 1008, 1009, 1010, 1013, 1041, 1045, 1069, 1072, 1073, 1078, 1097, 1100, 1108, 1112, 1118, 1134, 1193, 1205, 1207, 1216, 1219, 1267, 1334, 1400, 1427, 1596, 1681]\n"
          ],
          "name": "stdout"
        }
      ]
    },
    {
      "cell_type": "markdown",
      "metadata": {
        "id": "0dbZPgC4gZYw"
      },
      "source": [
        "기존 방법에 명시적 피드백(사용자가 평가한 영화 점수)을 추가해 실험"
      ]
    },
    {
      "cell_type": "code",
      "metadata": {
        "id": "_5udkr1PfGAD",
        "colab": {
          "base_uri": "https://localhost:8080/"
        },
        "outputId": "8f800fe7-632e-456c-f952-29958005705c"
      },
      "source": [
        "# 이번엔 adj_matrix에 1이 아닌 실제적인 평점 데이터를 넣어줌\r\n",
        "adj_matrix = np.ndarray(shape, dtype=int)\r\n",
        "for user_id, movie_id, rating, time in raw_data:\r\n",
        "  adj_matrix[user_id][movie_id] = rating\r\n",
        "adj_matrix"
      ],
      "execution_count": null,
      "outputs": [
        {
          "output_type": "execute_result",
          "data": {
            "text/plain": [
              "array([[5, 3, 4, ..., 0, 0, 0],\n",
              "       [4, 0, 0, ..., 0, 0, 0],\n",
              "       [0, 0, 0, ..., 0, 0, 0],\n",
              "       ...,\n",
              "       [5, 0, 0, ..., 0, 0, 0],\n",
              "       [0, 0, 0, ..., 0, 0, 0],\n",
              "       [0, 5, 0, ..., 0, 0, 0]])"
            ]
          },
          "metadata": {
            "tags": []
          },
          "execution_count": 29
        }
      ]
    },
    {
      "cell_type": "code",
      "metadata": {
        "id": "ApfZVTtGgs41",
        "colab": {
          "base_uri": "https://localhost:8080/"
        },
        "outputId": "2b224ffa-03d6-4aa8-af97-67177160db35"
      },
      "source": [
        "my_id, my_vector = 0, adj_matrix[0]\r\n",
        "best_match, best_match_id, best_match_vector = 9999, -1, []\r\n",
        "\r\n",
        "for user_id, user_vector in enumerate(adj_matrix):\r\n",
        "  if my_id != user_id:\r\n",
        "    # 유클리디안 거리 공식\r\n",
        "    euclidean_dist = np.sqrt(np.sum(np.square(my_vector - user_vector)))\r\n",
        "    if euclidean_dist < best_match:\r\n",
        "      best_match = euclidean_dist\r\n",
        "      best_match_id = user_id\r\n",
        "      best_match_vector = user_vector\r\n",
        "\r\n",
        "print('Best Match: {}, Best Match ID: {}'.format(best_match, best_match_id))"
      ],
      "execution_count": null,
      "outputs": [
        {
          "output_type": "stream",
          "text": [
            "Best Match: 55.06359959174482, Best Match ID: 737\n"
          ],
          "name": "stdout"
        }
      ]
    },
    {
      "cell_type": "code",
      "metadata": {
        "id": "OYTI1nT0hKtz",
        "colab": {
          "base_uri": "https://localhost:8080/"
        },
        "outputId": "1ccd0a99-d320-4fdb-8027-e889a7724102"
      },
      "source": [
        "my_id, my_vector = 0, adj_matrix[0]\r\n",
        "best_match, best_match_id, best_match_vector = -1, -1, []\r\n",
        "\r\n",
        "for user_id, user_vector in enumerate(adj_matrix):\r\n",
        "  if my_id != user_id:\r\n",
        "    cos_similarity = compute_cos_similarity(my_vector, user_vector)\r\n",
        "    if cos_similarity > best_match:\r\n",
        "      best_match = cos_similarity\r\n",
        "      best_match_id = user_id\r\n",
        "      best_match_vector = user_vector\r\n",
        "\r\n",
        "print('Best Match: {}, Best Match ID: {}'.format(best_match, best_match_id))"
      ],
      "execution_count": null,
      "outputs": [
        {
          "output_type": "stream",
          "text": [
            "Best Match: 0.569065731527988, Best Match ID: 915\n"
          ],
          "name": "stdout"
        }
      ]
    },
    {
      "cell_type": "markdown",
      "metadata": {
        "id": "HreRrslahd32"
      },
      "source": [
        "## 협업 필터링(Collaborative Filtering)\n",
        "\n",
        "* 사용자와 항목의 유사성을 동시에 고려해 추천\n",
        "* 기존에 내 관심사가 아닌 항목이라도 추천 가능\n",
        "* 자동으로 임베딩 학습 가능\n",
        "* 협업 필터링은 다음과 같은 장단점을 갖고 있다.\n",
        "  * 장점\n",
        "    * 자동으로 임베딩을 학습하기 때문에 도메인 지식이 필요 없다.\n",
        "    * 기존의 관심사가 아니더라도 추천 가능\n",
        "  * 단점\n",
        "    * 학습 과정에 나오지 않은 항목은 임베딩을 만들 수 없음\n",
        "    * 추가 특성을 사용하기 어려움"
      ]
    },
    {
      "cell_type": "code",
      "metadata": {
        "id": "BSj5Ex6yhPxq"
      },
      "source": [
        "from surprise import KNNBasic, SVD, SVDpp, NMF\r\n",
        "from surprise import Dataset\r\n",
        "from surprise.model_selection import cross_validate"
      ],
      "execution_count": null,
      "outputs": []
    },
    {
      "cell_type": "code",
      "metadata": {
        "id": "mWAiO62WkH2U"
      },
      "source": [
        "data = Dataset.load_builtin('ml-100k', prompt=False)"
      ],
      "execution_count": null,
      "outputs": []
    },
    {
      "cell_type": "markdown",
      "metadata": {
        "id": "LKP-UxZkkc8n"
      },
      "source": [
        "* KNN을 사용한 협업 필터링"
      ]
    },
    {
      "cell_type": "code",
      "metadata": {
        "id": "x9LlEDqvkayg",
        "colab": {
          "base_uri": "https://localhost:8080/"
        },
        "outputId": "079f7747-0cfd-467a-c461-0e4bef3f7799"
      },
      "source": [
        "model = KNNBasic()\r\n",
        "cross_validate(model, data, measures=['rmse', 'mae'], cv=5, n_jobs=4, verbose=True)"
      ],
      "execution_count": null,
      "outputs": [
        {
          "output_type": "stream",
          "text": [
            "Evaluating RMSE, MAE of algorithm KNNBasic on 5 split(s).\n",
            "\n",
            "                  Fold 1  Fold 2  Fold 3  Fold 4  Fold 5  Mean    Std     \n",
            "RMSE (testset)    0.9739  0.9767  0.9777  0.9804  0.9861  0.9789  0.0042  \n",
            "MAE (testset)     0.7693  0.7707  0.7719  0.7737  0.7788  0.7729  0.0033  \n",
            "Fit time          0.49    0.70    1.02    1.02    0.69    0.78    0.21    \n",
            "Test time         7.55    9.22    8.56    7.12    4.86    7.46    1.50    \n"
          ],
          "name": "stdout"
        },
        {
          "output_type": "execute_result",
          "data": {
            "text/plain": [
              "{'fit_time': (0.48593902587890625,\n",
              "  0.7029252052307129,\n",
              "  1.0233478546142578,\n",
              "  1.0171363353729248,\n",
              "  0.6900486946105957),\n",
              " 'test_mae': array([0.76929946, 0.77073289, 0.77191774, 0.77365339, 0.77879379]),\n",
              " 'test_rmse': array([0.97386893, 0.97665337, 0.97771638, 0.98036629, 0.98612687]),\n",
              " 'test_time': (7.549459218978882,\n",
              "  9.22037649154663,\n",
              "  8.562432527542114,\n",
              "  7.122546672821045,\n",
              "  4.859294891357422)}"
            ]
          },
          "metadata": {
            "tags": []
          },
          "execution_count": 36
        }
      ]
    },
    {
      "cell_type": "markdown",
      "metadata": {
        "id": "QFEFPuSflHew"
      },
      "source": [
        "* SVD를 사용한 협업 필터링"
      ]
    },
    {
      "cell_type": "code",
      "metadata": {
        "id": "H6HJ5bKOlHIb",
        "colab": {
          "base_uri": "https://localhost:8080/"
        },
        "outputId": "949bc180-0387-46ce-a43b-833867ac9cb9"
      },
      "source": [
        "model = SVD()\r\n",
        "cross_validate(model, data, measures=['rmse', 'mae'], cv=5, n_jobs=4, verbose=True)"
      ],
      "execution_count": null,
      "outputs": [
        {
          "output_type": "stream",
          "text": [
            "Evaluating RMSE, MAE of algorithm SVD on 5 split(s).\n",
            "\n",
            "                  Fold 1  Fold 2  Fold 3  Fold 4  Fold 5  Mean    Std     \n",
            "RMSE (testset)    0.9397  0.9311  0.9401  0.9313  0.9376  0.9360  0.0040  \n",
            "MAE (testset)     0.7412  0.7348  0.7378  0.7351  0.7397  0.7377  0.0025  \n",
            "Fit time          13.39   15.58   15.85   13.02   8.84    13.33   2.52    \n",
            "Test time         0.75    0.58    0.44    0.27    0.18    0.44    0.21    \n"
          ],
          "name": "stdout"
        },
        {
          "output_type": "execute_result",
          "data": {
            "text/plain": [
              "{'fit_time': (13.385408401489258,\n",
              "  15.576305866241455,\n",
              "  15.847684383392334,\n",
              "  13.021935939788818,\n",
              "  8.836183071136475),\n",
              " 'test_mae': array([0.7411617 , 0.73479479, 0.73784245, 0.73511428, 0.73965817]),\n",
              " 'test_rmse': array([0.93974732, 0.93108836, 0.94013107, 0.93133161, 0.93757589]),\n",
              " 'test_time': (0.7533307075500488,\n",
              "  0.5770807266235352,\n",
              "  0.44124627113342285,\n",
              "  0.2677774429321289,\n",
              "  0.1789844036102295)}"
            ]
          },
          "metadata": {
            "tags": []
          },
          "execution_count": 37
        }
      ]
    },
    {
      "cell_type": "markdown",
      "metadata": {
        "id": "MqK8Xgeglkmj"
      },
      "source": [
        "* NMF를 사용한 협업 필터링"
      ]
    },
    {
      "cell_type": "code",
      "metadata": {
        "id": "zSwGKHEDkyue",
        "colab": {
          "base_uri": "https://localhost:8080/"
        },
        "outputId": "ad34cf65-8184-4b1c-d89f-e5bc66fdc1f8"
      },
      "source": [
        "model = NMF()\r\n",
        "cross_validate(model, data, measures=['rmse', 'mae'], cv=5, n_jobs=4, verbose=True)"
      ],
      "execution_count": null,
      "outputs": [
        {
          "output_type": "stream",
          "text": [
            "Evaluating RMSE, MAE of algorithm NMF on 5 split(s).\n",
            "\n",
            "                  Fold 1  Fold 2  Fold 3  Fold 4  Fold 5  Mean    Std     \n",
            "RMSE (testset)    0.9633  0.9662  0.9660  0.9647  0.9612  0.9643  0.0018  \n",
            "MAE (testset)     0.7576  0.7599  0.7590  0.7580  0.7543  0.7578  0.0019  \n",
            "Fit time          13.99   15.95   16.49   13.87   9.56    13.97   2.44    \n",
            "Test time         0.60    0.50    0.38    0.24    0.15    0.37    0.17    \n"
          ],
          "name": "stdout"
        },
        {
          "output_type": "execute_result",
          "data": {
            "text/plain": [
              "{'fit_time': (13.986524105072021,\n",
              "  15.94752049446106,\n",
              "  16.486459255218506,\n",
              "  13.8664870262146,\n",
              "  9.560909032821655),\n",
              " 'test_mae': array([0.75756324, 0.75991584, 0.75902252, 0.75799351, 0.75434691]),\n",
              " 'test_rmse': array([0.96332978, 0.96620154, 0.96596314, 0.96466314, 0.96123346]),\n",
              " 'test_time': (0.6045703887939453,\n",
              "  0.4990708827972412,\n",
              "  0.380171537399292,\n",
              "  0.24194550514221191,\n",
              "  0.147902250289917)}"
            ]
          },
          "metadata": {
            "tags": []
          },
          "execution_count": 38
        }
      ]
    },
    {
      "cell_type": "markdown",
      "metadata": {
        "id": "odXxXkX0mi_7"
      },
      "source": [
        "* SVD++를 사용한 협업 필터링"
      ]
    },
    {
      "cell_type": "code",
      "metadata": {
        "id": "Ck153w1Tlsxa",
        "colab": {
          "base_uri": "https://localhost:8080/"
        },
        "outputId": "4bca2df0-b8d2-4f7d-eee3-9e9e0f995343"
      },
      "source": [
        "model = SVDpp()\r\n",
        "cross_validate(model, data, measures=['rmse', 'mae'], cv=5, n_jobs=4, verbose=True)"
      ],
      "execution_count": null,
      "outputs": [
        {
          "output_type": "stream",
          "text": [
            "Evaluating RMSE, MAE of algorithm SVDpp on 5 split(s).\n",
            "\n",
            "                  Fold 1  Fold 2  Fold 3  Fold 4  Fold 5  Mean    Std     \n",
            "RMSE (testset)    0.9225  0.9084  0.9183  0.9192  0.9215  0.9180  0.0050  \n",
            "MAE (testset)     0.7241  0.7122  0.7238  0.7227  0.7241  0.7214  0.0046  \n",
            "Fit time          672.22  675.79  675.28  667.25  170.34  572.18  200.94  \n",
            "Test time         12.52   12.83   11.57   12.91   3.26    10.62   3.71    \n"
          ],
          "name": "stdout"
        },
        {
          "output_type": "execute_result",
          "data": {
            "text/plain": [
              "{'fit_time': (672.2247204780579,\n",
              "  675.7937059402466,\n",
              "  675.2763328552246,\n",
              "  667.2467639446259,\n",
              "  170.3392515182495),\n",
              " 'test_mae': array([0.72411997, 0.71222769, 0.72380932, 0.72272314, 0.72409056]),\n",
              " 'test_rmse': array([0.92253236, 0.90840635, 0.91832185, 0.91924298, 0.92149375]),\n",
              " 'test_time': (12.515757083892822,\n",
              "  12.825624227523804,\n",
              "  11.57023549079895,\n",
              "  12.914114475250244,\n",
              "  3.262526273727417)}"
            ]
          },
          "metadata": {
            "tags": []
          },
          "execution_count": 39
        }
      ]
    },
    {
      "cell_type": "markdown",
      "metadata": {
        "id": "hMNwOXpjqeWq"
      },
      "source": [
        "## 하이브리드(Hybrid)\n",
        "\n",
        "* 컨텐츠 기반 필터링과 협업 필터링을 조합한 방식\n",
        "* 많은 하이브리드 방식이 존재\n",
        "* 실습에서는 협업 필터링으로 임베딩을 학습하고 컨텐츠 기반 필터링으로 유사도 기반 추천을 수행하는 추천 엔진 개발"
      ]
    },
    {
      "cell_type": "code",
      "metadata": {
        "id": "9mDHmnwFmzwd"
      },
      "source": [
        "import numpy as np\r\n",
        "from sklearn.decomposition import randomized_svd, non_negative_factorization\r\n",
        "from surprise import Dataset"
      ],
      "execution_count": null,
      "outputs": []
    },
    {
      "cell_type": "code",
      "metadata": {
        "id": "MtEuyQGGMmor",
        "colab": {
          "base_uri": "https://localhost:8080/"
        },
        "outputId": "b73a24d7-068d-43f4-d478-7546139a7aef"
      },
      "source": [
        "data = Dataset.load_builtin('ml-100k', prompt=False)\r\n",
        "raw_data = np.array(data.raw_ratings, dtype=int)\r\n",
        "raw_data[:, 0] -= 1\r\n",
        "raw_data[:, 1] -= 1"
      ],
      "execution_count": null,
      "outputs": [
        {
          "output_type": "stream",
          "text": [
            "Trying to download dataset from http://files.grouplens.org/datasets/movielens/ml-100k.zip...\n",
            "Done! Dataset ml-100k has been saved to /root/.surprise_data/ml-100k\n"
          ],
          "name": "stdout"
        }
      ]
    },
    {
      "cell_type": "code",
      "metadata": {
        "id": "esDSrjm_NshD",
        "colab": {
          "base_uri": "https://localhost:8080/"
        },
        "outputId": "92225e25-29f7-4e52-8886-d0b79d03726e"
      },
      "source": [
        "n_users = np.max(raw_data[:, 0])\r\n",
        "n_movies = np.max(raw_data[:, 1])\r\n",
        "shape = (n_users + 1, n_movies + 1)\r\n",
        "shape"
      ],
      "execution_count": null,
      "outputs": [
        {
          "output_type": "execute_result",
          "data": {
            "text/plain": [
              "(943, 1682)"
            ]
          },
          "metadata": {
            "tags": []
          },
          "execution_count": 5
        }
      ]
    },
    {
      "cell_type": "code",
      "metadata": {
        "id": "v6lc4h2sNY_7"
      },
      "source": [
        "adj_matrix = np.ndarray(shape, dtype=int)\r\n",
        "for user_id, movie_id, rating, time in raw_data:\r\n",
        "  adj_matrix[user_id][movie_id] = rating"
      ],
      "execution_count": null,
      "outputs": []
    },
    {
      "cell_type": "code",
      "metadata": {
        "id": "bZnx294OTntk",
        "colab": {
          "base_uri": "https://localhost:8080/"
        },
        "outputId": "9c1a1689-a016-42b9-955e-b3e48febf640"
      },
      "source": [
        "adj_matrix"
      ],
      "execution_count": null,
      "outputs": [
        {
          "output_type": "execute_result",
          "data": {
            "text/plain": [
              "array([[5, 3, 4, ..., 0, 0, 0],\n",
              "       [4, 0, 0, ..., 0, 0, 0],\n",
              "       [0, 0, 0, ..., 0, 0, 0],\n",
              "       ...,\n",
              "       [5, 0, 0, ..., 0, 0, 0],\n",
              "       [0, 0, 0, ..., 0, 0, 0],\n",
              "       [0, 5, 0, ..., 0, 0, 0]])"
            ]
          },
          "metadata": {
            "tags": []
          },
          "execution_count": 23
        }
      ]
    },
    {
      "cell_type": "code",
      "metadata": {
        "id": "mpw7bmE-SVon"
      },
      "source": [
        "# U : 사용자, S : 특이값 벡터, V: 아이템\r\n",
        "U, S, V = randomized_svd(adj_matrix, n_components=2)\r\n",
        "S = np.diag(S)"
      ],
      "execution_count": null,
      "outputs": []
    },
    {
      "cell_type": "code",
      "metadata": {
        "id": "sdnXxd6lODFy",
        "colab": {
          "base_uri": "https://localhost:8080/"
        },
        "outputId": "66f915f4-ef98-4e06-e4d3-dd679705babb"
      },
      "source": [
        "print(U.shape)\r\n",
        "print(S.shape)\r\n",
        "print(V.shape)"
      ],
      "execution_count": null,
      "outputs": [
        {
          "output_type": "stream",
          "text": [
            "(943, 2)\n",
            "(2, 2)\n",
            "(2, 1682)\n"
          ],
          "name": "stdout"
        }
      ]
    },
    {
      "cell_type": "code",
      "metadata": {
        "id": "zBvnhmuhOxDx",
        "colab": {
          "base_uri": "https://localhost:8080/"
        },
        "outputId": "cc781ca5-95d7-4925-e9a7-9abdd0dfdac5"
      },
      "source": [
        "np.matmul(np.matmul(U, S), V)"
      ],
      "execution_count": null,
      "outputs": [
        {
          "output_type": "execute_result",
          "data": {
            "text/plain": [
              "array([[ 3.91732663e+00,  1.47276644e+00,  7.98261988e-01, ...,\n",
              "         6.24907189e-04,  1.41100852e-02,  1.36545878e-02],\n",
              "       [ 1.85777226e+00,  3.96191175e-01,  5.05705740e-01, ...,\n",
              "         5.38862978e-03,  1.77237914e-03,  5.26968095e-04],\n",
              "       [ 8.94989517e-01,  1.71578497e-01,  2.51738682e-01, ...,\n",
              "         2.92094923e-03,  5.39937171e-04, -1.25733753e-04],\n",
              "       ...,\n",
              "       [ 9.92051955e-01,  2.10814957e-01,  2.70363365e-01, ...,\n",
              "         2.89019297e-03,  9.34221962e-04,  2.66612193e-04],\n",
              "       [ 1.30425401e+00,  5.27669941e-01,  2.50080165e-01, ...,\n",
              "        -4.20677765e-04,  5.30525683e-03,  5.28069948e-03],\n",
              "       [ 2.82999397e+00,  9.70812247e-01,  6.15871694e-01, ...,\n",
              "         2.02091492e-03,  8.67740813e-03,  8.03107892e-03]])"
            ]
          },
          "metadata": {
            "tags": []
          },
          "execution_count": 26
        }
      ]
    },
    {
      "cell_type": "markdown",
      "metadata": {
        "id": "3pSBMfF7d74E"
      },
      "source": [
        "* 사용자 기반 추천\n",
        "* 나와 비슷한 취향을 가진 다른 사용자의 행동을 추천\n",
        "* 사용자 특징 벡터의 유사도 사용"
      ]
    },
    {
      "cell_type": "code",
      "metadata": {
        "id": "N6nYexy6cq9V",
        "colab": {
          "base_uri": "https://localhost:8080/"
        },
        "outputId": "503fd7fa-0d17-47e5-827b-194db626754f"
      },
      "source": [
        "my_id, my_vector = 0, U[0]\r\n",
        "best_match, best_match_id, best_match_vector = -1, -1, []\r\n",
        "\r\n",
        "for user_id, user_vector in enumerate(U):\r\n",
        "  if my_id != user_id:\r\n",
        "    cos_similarity = compute_cos_similarity(my_vector, user_vector)\r\n",
        "    if cos_similarity > best_match:\r\n",
        "      best_match = cos_similarity\r\n",
        "      best_match_id = user_id\r\n",
        "      best_match_vector = user_vector\r\n",
        "\r\n",
        "print('Best Match: {}, Best Match ID: {}'.format(best_match, best_match_id))"
      ],
      "execution_count": null,
      "outputs": [
        {
          "output_type": "stream",
          "text": [
            "Best Match: 0.9999942295956324, Best Match ID: 235\n"
          ],
          "name": "stdout"
        }
      ]
    },
    {
      "cell_type": "code",
      "metadata": {
        "id": "wdISUAEIfoHi",
        "colab": {
          "base_uri": "https://localhost:8080/"
        },
        "outputId": "a5e952e8-c7b7-4df0-92d7-3a5fe24b2c79"
      },
      "source": [
        "recommend_list = []\r\n",
        "for i, log in enumerate(zip(adj_matrix[my_id], adj_matrix[best_match_id])):\r\n",
        "  log1, log2 = log\r\n",
        "  if log1 < 1. and log2 > 0.:\r\n",
        "    recommend_list.append(i)\r\n",
        "print(recommend_list)"
      ],
      "execution_count": null,
      "outputs": [
        {
          "output_type": "stream",
          "text": [
            "[272, 273, 274, 281, 285, 288, 293, 297, 303, 306, 312, 317, 327, 332, 369, 410, 418, 419, 422, 426, 428, 431, 434, 442, 461, 475, 477, 482, 495, 503, 504, 505, 506, 509, 519, 520, 522, 525, 531, 545, 548, 590, 594, 595, 613, 631, 654, 658, 660, 672, 684, 685, 691, 695, 698, 704, 716, 728, 734, 749, 755, 863, 865, 933, 1012, 1038, 1101, 1327, 1400]\n"
          ],
          "name": "stdout"
        }
      ]
    },
    {
      "cell_type": "markdown",
      "metadata": {
        "id": "0nSD2izbhJix"
      },
      "source": [
        "* 항목 기반 추천\n",
        "* 내가 본 항목과 비슷한 항목을 추천\n",
        "* 항목 특징 벡터의 유사도 사용"
      ]
    },
    {
      "cell_type": "code",
      "metadata": {
        "id": "vCLxtkLdgM-s",
        "colab": {
          "base_uri": "https://localhost:8080/"
        },
        "outputId": "3cbbca1f-bfc0-4dc8-9514-d827817b2262"
      },
      "source": [
        "my_id, my_vector = 0, V.T[0]\r\n",
        "best_match, best_match_id, best_match_vector = -1, -1, []\r\n",
        "\r\n",
        "for user_id, user_vector in enumerate(V.T):\r\n",
        "  if my_id != user_id:\r\n",
        "    cos_similarity = compute_cos_similarity(my_vector, user_vector)\r\n",
        "    if cos_similarity > best_match:\r\n",
        "      best_match = cos_similarity\r\n",
        "      best_match_id = user_id\r\n",
        "      best_match_vector = user_vector\r\n",
        "\r\n",
        "print('Best Match: {}, Best Match ID: {}'.format(best_match, best_match_id))"
      ],
      "execution_count": null,
      "outputs": [
        {
          "output_type": "stream",
          "text": [
            "Best Match: 0.9999999951364144, Best Match ID: 1287\n"
          ],
          "name": "stdout"
        }
      ]
    },
    {
      "cell_type": "code",
      "metadata": {
        "id": "IZ49Abk7iBeU",
        "colab": {
          "base_uri": "https://localhost:8080/"
        },
        "outputId": "03c83fb3-8bf4-48b9-da70-403a06df842c"
      },
      "source": [
        "recommend_list = []\r\n",
        "for i, user_vector in enumerate(adj_matrix):\r\n",
        "  if adj_matrix[i][my_id] > 0.9:\r\n",
        "    recommend_list.append(i)\r\n",
        "print(recommend_list)"
      ],
      "execution_count": null,
      "outputs": [
        {
          "output_type": "stream",
          "text": [
            "[0, 1, 4, 5, 9, 12, 14, 15, 16, 17, 19, 20, 22, 24, 25, 37, 40, 41, 42, 43, 44, 48, 53, 55, 56, 57, 58, 61, 62, 63, 64, 65, 66, 69, 71, 72, 74, 76, 78, 80, 81, 82, 83, 88, 91, 92, 93, 94, 95, 96, 98, 100, 101, 105, 107, 108, 116, 119, 120, 123, 124, 127, 129, 130, 133, 136, 137, 140, 143, 144, 147, 149, 150, 156, 157, 159, 161, 167, 173, 176, 177, 180, 181, 183, 188, 192, 193, 197, 198, 199, 200, 201, 202, 203, 208, 209, 212, 215, 221, 222, 229, 230, 231, 233, 234, 241, 242, 243, 245, 246, 247, 248, 249, 250, 251, 252, 253, 255, 261, 262, 264, 267, 270, 273, 274, 275, 276, 278, 279, 285, 286, 288, 289, 290, 291, 292, 293, 294, 295, 296, 297, 298, 300, 302, 304, 306, 307, 310, 311, 312, 313, 319, 321, 323, 324, 325, 326, 329, 330, 331, 335, 337, 338, 339, 342, 343, 344, 346, 347, 349, 356, 358, 359, 362, 364, 370, 373, 377, 378, 379, 380, 386, 387, 388, 389, 392, 393, 394, 395, 397, 398, 400, 401, 402, 405, 406, 410, 411, 415, 416, 418, 421, 423, 424, 428, 431, 433, 434, 437, 440, 444, 446, 449, 453, 454, 455, 456, 457, 458, 459, 462, 464, 466, 467, 469, 470, 471, 477, 478, 482, 483, 485, 486, 487, 489, 492, 493, 494, 496, 499, 502, 504, 507, 511, 513, 516, 517, 520, 522, 524, 525, 531, 532, 533, 534, 535, 536, 539, 540, 541, 544, 547, 548, 549, 551, 552, 553, 559, 560, 561, 566, 568, 575, 576, 578, 579, 581, 587, 591, 592, 596, 598, 601, 604, 605, 608, 609, 611, 612, 613, 617, 619, 620, 621, 623, 629, 631, 633, 634, 635, 636, 641, 642, 647, 648, 649, 652, 653, 654, 656, 657, 659, 660, 662, 663, 664, 668, 673, 675, 676, 677, 678, 679, 681, 683, 688, 689, 690, 691, 696, 697, 698, 700, 702, 704, 705, 707, 708, 709, 713, 714, 715, 720, 722, 725, 726, 729, 730, 732, 734, 737, 741, 743, 744, 745, 746, 747, 748, 750, 755, 756, 758, 760, 762, 763, 766, 767, 768, 769, 770, 772, 776, 778, 784, 785, 787, 788, 789, 791, 792, 793, 794, 795, 797, 799, 803, 804, 805, 806, 814, 816, 820, 821, 822, 825, 828, 829, 830, 834, 837, 838, 842, 846, 851, 853, 863, 864, 866, 867, 869, 871, 878, 879, 880, 881, 882, 884, 885, 886, 888, 889, 891, 892, 893, 894, 895, 896, 898, 900, 901, 902, 906, 909, 912, 915, 916, 917, 918, 920, 921, 922, 923, 926, 928, 929, 931, 932, 933, 934, 935, 937, 940]\n"
          ],
          "name": "stdout"
        }
      ]
    },
    {
      "cell_type": "markdown",
      "metadata": {
        "id": "7uAlUROxj2nA"
      },
      "source": [
        "* 비음수 행렬 분해를 사용한 하이브리드 추천"
      ]
    },
    {
      "cell_type": "code",
      "metadata": {
        "id": "Ou2UGuXMTY39",
        "colab": {
          "base_uri": "https://localhost:8080/"
        },
        "outputId": "51760196-7b35-468f-8833-ab1715da8641"
      },
      "source": [
        "adj_matrix"
      ],
      "execution_count": null,
      "outputs": [
        {
          "output_type": "execute_result",
          "data": {
            "text/plain": [
              "array([[5, 3, 4, ..., 0, 0, 0],\n",
              "       [4, 0, 0, ..., 0, 0, 0],\n",
              "       [0, 0, 0, ..., 0, 0, 0],\n",
              "       ...,\n",
              "       [5, 0, 0, ..., 0, 0, 0],\n",
              "       [0, 0, 0, ..., 0, 0, 0],\n",
              "       [0, 5, 0, ..., 0, 0, 0]])"
            ]
          },
          "metadata": {
            "tags": []
          },
          "execution_count": 31
        }
      ]
    },
    {
      "cell_type": "code",
      "metadata": {
        "id": "yThSdQxDjnsk",
        "colab": {
          "base_uri": "https://localhost:8080/"
        },
        "outputId": "b3c1b096-2705-403e-ac34-0c0080aab614"
      },
      "source": [
        "A, B, iter = non_negative_factorization(adj_matrix, n_components=2)"
      ],
      "execution_count": null,
      "outputs": [
        {
          "output_type": "stream",
          "text": [
            "/usr/local/lib/python3.7/dist-packages/sklearn/decomposition/_nmf.py:1035: FutureWarning: The default value of init will change from random to None in 0.23 to make it consistent with decomposition.NMF.\n",
            "  \"with decomposition.NMF.\", FutureWarning)\n"
          ],
          "name": "stderr"
        }
      ]
    },
    {
      "cell_type": "code",
      "metadata": {
        "id": "hqtcd6HmkOsA",
        "colab": {
          "base_uri": "https://localhost:8080/"
        },
        "outputId": "f088acc6-7170-4fcd-a194-0c4da8e05d62"
      },
      "source": [
        "np.matmul(A, B)"
      ],
      "execution_count": null,
      "outputs": [
        {
          "output_type": "execute_result",
          "data": {
            "text/plain": [
              "array([[3.71104087e+00, 1.48480048e+00, 7.39556111e-01, ...,\n",
              "        3.64528375e-03, 1.45530743e-02, 1.44128658e-02],\n",
              "       [2.11742028e+00, 2.36692943e-01, 5.51607056e-01, ...,\n",
              "        4.76756911e-03, 2.40100485e-05, 0.00000000e+00],\n",
              "       [9.85448710e-01, 1.10157042e-01, 2.56718266e-01, ...,\n",
              "        2.21882962e-03, 1.11742915e-05, 0.00000000e+00],\n",
              "       ...,\n",
              "       [1.04461116e+00, 1.16770436e-01, 2.72130617e-01, ...,\n",
              "        2.35203939e-03, 1.18451518e-05, 0.00000000e+00],\n",
              "       [1.45793908e+00, 5.42097882e-01, 2.99300665e-01, ...,\n",
              "        1.61361232e-03, 5.15825038e-03, 5.10694846e-03],\n",
              "       [2.44655725e+00, 9.41443132e-01, 4.95511799e-01, ...,\n",
              "        2.56800271e-03, 9.08665410e-03, 8.99765266e-03]])"
            ]
          },
          "metadata": {
            "tags": []
          },
          "execution_count": 33
        }
      ]
    },
    {
      "cell_type": "markdown",
      "metadata": {
        "id": "6DGX9EtEop4i"
      },
      "source": [
        "* 사용자 기반 추천"
      ]
    },
    {
      "cell_type": "code",
      "metadata": {
        "id": "dndXY3Gvm7zs",
        "colab": {
          "base_uri": "https://localhost:8080/"
        },
        "outputId": "7e811fa8-78a6-4147-d1ae-3d3af2199e25"
      },
      "source": [
        "my_id, my_vector = 0, U[0] # 내 아이디가 0번이라고 가정\n",
        "best_match, best_match_id, best_match_vector = -1, -1, []\n",
        "\n",
        "for user_id, user_vector in enumerate(U):\n",
        "  if my_id != user_id:\n",
        "    cos_similarity = compute_cos_similarity(my_vector, user_vector)\n",
        "    if cos_similarity > best_match:\n",
        "      best_match = cos_similarity\n",
        "      best_match_id = user_id\n",
        "      best_match_vector = user_vector\n",
        "\n",
        "print('Best Match: {}, Best Match ID: {}'.format(best_match, best_match_id))"
      ],
      "execution_count": null,
      "outputs": [
        {
          "output_type": "stream",
          "text": [
            "Best Match: 0.9999942295956324, Best Match ID: 235\n"
          ],
          "name": "stdout"
        }
      ]
    },
    {
      "cell_type": "code",
      "metadata": {
        "id": "njszNHE_m9MK",
        "colab": {
          "base_uri": "https://localhost:8080/"
        },
        "outputId": "854f8045-6baa-4cfa-ebdd-9a26801d1bdd"
      },
      "source": [
        "recommend_list = []\n",
        "for i, log in enumerate(zip(adj_matrix[my_id], adj_matrix[best_match_id])):\n",
        "  log1, log2 = log\n",
        "  if log1 < 1. and log2 > 0.:\n",
        "    recommend_list.append(i)\n",
        "print(recommend_list)"
      ],
      "execution_count": null,
      "outputs": [
        {
          "output_type": "stream",
          "text": [
            "[272, 273, 274, 281, 285, 288, 293, 297, 303, 306, 312, 317, 327, 332, 369, 410, 418, 419, 422, 426, 428, 431, 434, 442, 461, 475, 477, 482, 495, 503, 504, 505, 506, 509, 519, 520, 522, 525, 531, 545, 548, 590, 594, 595, 613, 631, 654, 658, 660, 672, 684, 685, 691, 695, 698, 704, 716, 728, 734, 749, 755, 863, 865, 933, 1012, 1038, 1101, 1327, 1400]\n"
          ],
          "name": "stdout"
        }
      ]
    },
    {
      "cell_type": "markdown",
      "metadata": {
        "id": "F21eqO8dosUE"
      },
      "source": [
        "* 항목 기반 추천"
      ]
    },
    {
      "cell_type": "code",
      "metadata": {
        "id": "G8RZo0Mvom4X",
        "colab": {
          "base_uri": "https://localhost:8080/"
        },
        "outputId": "e36c04a3-176b-4d60-f8bc-c30b324c257e"
      },
      "source": [
        "my_id, my_vector = 0, V.T[0]\n",
        "best_match, best_match_id, best_match_vector = -1, -1, []\n",
        "\n",
        "for user_id, user_vector in enumerate(V.T):\n",
        "  if my_id != user_id:\n",
        "    cos_similarity = compute_cos_similarity(my_vector, user_vector)\n",
        "    if cos_similarity > best_match:\n",
        "      best_match = cos_similarity\n",
        "      best_match_id = user_id\n",
        "      best_match_vector = user_vector\n",
        "\n",
        "print('Best Match: {}, Best Match ID: {}'.format(best_match, best_match_id))"
      ],
      "execution_count": null,
      "outputs": [
        {
          "output_type": "stream",
          "text": [
            "Best Match: 0.9999999951364144, Best Match ID: 1287\n"
          ],
          "name": "stdout"
        }
      ]
    },
    {
      "cell_type": "code",
      "metadata": {
        "id": "G_ua-2Lcox8i",
        "colab": {
          "base_uri": "https://localhost:8080/"
        },
        "outputId": "346b06c8-39ee-41d8-c169-91cc88424658"
      },
      "source": [
        "recommend_list = []\n",
        "for i, user_vector in enumerate(adj_matrix):\n",
        "  if adj_matrix[i][my_id] > 0.9:\n",
        "    recommend_list.append(i)\n",
        "print(recommend_list)"
      ],
      "execution_count": null,
      "outputs": [
        {
          "output_type": "stream",
          "text": [
            "[0, 1, 4, 5, 9, 12, 14, 15, 16, 17, 19, 20, 22, 24, 25, 37, 40, 41, 42, 43, 44, 48, 53, 55, 56, 57, 58, 61, 62, 63, 64, 65, 66, 69, 71, 72, 74, 76, 78, 80, 81, 82, 83, 88, 91, 92, 93, 94, 95, 96, 98, 100, 101, 105, 107, 108, 116, 119, 120, 123, 124, 127, 129, 130, 133, 136, 137, 140, 143, 144, 147, 149, 150, 156, 157, 159, 161, 167, 173, 176, 177, 180, 181, 183, 188, 192, 193, 197, 198, 199, 200, 201, 202, 203, 208, 209, 212, 215, 221, 222, 229, 230, 231, 233, 234, 241, 242, 243, 245, 246, 247, 248, 249, 250, 251, 252, 253, 255, 261, 262, 264, 267, 270, 273, 274, 275, 276, 278, 279, 285, 286, 288, 289, 290, 291, 292, 293, 294, 295, 296, 297, 298, 300, 302, 304, 306, 307, 310, 311, 312, 313, 319, 321, 323, 324, 325, 326, 329, 330, 331, 335, 337, 338, 339, 342, 343, 344, 346, 347, 349, 356, 358, 359, 362, 364, 370, 373, 377, 378, 379, 380, 386, 387, 388, 389, 392, 393, 394, 395, 397, 398, 400, 401, 402, 405, 406, 410, 411, 415, 416, 418, 421, 423, 424, 428, 431, 433, 434, 437, 440, 444, 446, 449, 453, 454, 455, 456, 457, 458, 459, 462, 464, 466, 467, 469, 470, 471, 477, 478, 482, 483, 485, 486, 487, 489, 492, 493, 494, 496, 499, 502, 504, 507, 511, 513, 516, 517, 520, 522, 524, 525, 531, 532, 533, 534, 535, 536, 539, 540, 541, 544, 547, 548, 549, 551, 552, 553, 559, 560, 561, 566, 568, 575, 576, 578, 579, 581, 587, 591, 592, 596, 598, 601, 604, 605, 608, 609, 611, 612, 613, 617, 619, 620, 621, 623, 629, 631, 633, 634, 635, 636, 641, 642, 647, 648, 649, 652, 653, 654, 656, 657, 659, 660, 662, 663, 664, 668, 673, 675, 676, 677, 678, 679, 681, 683, 688, 689, 690, 691, 696, 697, 698, 700, 702, 704, 705, 707, 708, 709, 713, 714, 715, 720, 722, 725, 726, 729, 730, 732, 734, 737, 741, 743, 744, 745, 746, 747, 748, 750, 755, 756, 758, 760, 762, 763, 766, 767, 768, 769, 770, 772, 776, 778, 784, 785, 787, 788, 789, 791, 792, 793, 794, 795, 797, 799, 803, 804, 805, 806, 814, 816, 820, 821, 822, 825, 828, 829, 830, 834, 837, 838, 842, 846, 851, 853, 863, 864, 866, 867, 869, 871, 878, 879, 880, 881, 882, 884, 885, 886, 888, 889, 891, 892, 893, 894, 895, 896, 898, 900, 901, 902, 906, 909, 912, 915, 916, 917, 918, 920, 921, 922, 923, 926, 928, 929, 931, 932, 933, 934, 935, 937, 940]\n"
          ],
          "name": "stdout"
        }
      ]
    }
  ]
}